{
  "nbformat": 4,
  "nbformat_minor": 0,
  "metadata": {
    "colab": {
      "name": "proyecto_forma_de_onda_2019.ipynb",
      "provenance": [],
      "collapsed_sections": [],
      "toc_visible": true,
      "include_colab_link": true
    },
    "kernelspec": {
      "name": "python3",
      "display_name": "Python 3"
    }
  },
  "cells": [
    {
      "cell_type": "markdown",
      "metadata": {
        "id": "view-in-github",
        "colab_type": "text"
      },
      "source": [
        "<a href=\"https://colab.research.google.com/github/anadiedrichs/time-series-analysis/blob/master/proyecto_forma_de_onda_2019.ipynb\" target=\"_parent\"><img src=\"https://colab.research.google.com/assets/colab-badge.svg\" alt=\"Open In Colab\"/></a>"
      ]
    },
    {
      "cell_type": "markdown",
      "metadata": {
        "id": "krEUB4x2U-CL",
        "colab_type": "text"
      },
      "source": [
        "# Laboratorio #1 Proyecto forma de onda - Unidad análisis de series temporales - Teleinformática IoT - 2019\n",
        "\n",
        "**Docente: Ing. Ana Laura Diedrichs**\n",
        "\n",
        "Consultas: lunes 19 hs en sala consulta de sistemas.\n",
        "\n",
        "Contacto por otros horarios de consulta o dudas: \n",
        "* Email: ana.diedrichs@frm.utn.edu.ar\n",
        "* Telegram  @anadiedrichs\n",
        "\n",
        "## Objetivos del laboratorio:\n",
        "\n",
        "* Analizar una serie temporal para un problema específico\n",
        "* Fomentar el trabajo en clase, discusión y aportes de soluciones entre los participantes\n",
        "* Ser una entrada en calor o introducción del uso del entorno colab.research.google.com y librerías Python como pandas\n",
        "\n",
        "## Pre-requisitos o pre-condiciones\n",
        "* Tener una cuenta google (gmail)\n",
        "* Tener instalado el navegador google chrome \n",
        "* Contar con conectividad a Internet\n",
        "\n",
        "## Entrega y uso del laboratorio\n",
        "\n",
        "**USO**\n",
        "\n",
        "* Antes que cualquier cosa, **cree una copia de este notebook: Click en *File*, luego *Save a Copy in Drive***\n",
        "* Renombre el archivo con el siguiente formato: APELLIDO_NOMBRE_LEGAJO_titulonotebook.ipynb \n",
        "Ejemplo: DIEDRICHS_ANA_99999_proyecto_forma_de_onda_2019.ipynb\n",
        "* Use el notebook, complete las actividades y consignas que se elija. \n",
        "* Este laboratorio es una actividad individual.\n",
        "* Se fomenta el intercambio de opiniones en clase y exposición.\n",
        "\n",
        "**ENTREGA**\n",
        "\n",
        "* Una vez finalizado el laboratorio, complete [el formulario de entrega](https://forms.gle/zUnbfN79YEEeJFz7A) indicando\n",
        " * Apellido\n",
        " * Nombre\n",
        " * Nro Legajo\n",
        " * Carrera\n",
        " * Actividad (cuál laboratorio o actividad)\n",
        " * link de su notebook. El mismo se obtiene si realiza click en *Share* (esquina superior derecha) y luego en *Get shareable link* \n",
        " \n",
        " \n",
        " No se aceptarán otras formas de entrega distintas a la mencionada.\n",
        " \n",
        " Fecha límite de entrega: 17 de octubre de 2019."
      ]
    },
    {
      "cell_type": "markdown",
      "metadata": {
        "id": "RFZazCdSJiQI",
        "colab_type": "text"
      },
      "source": [
        "## Intro\n",
        "\n",
        "Durante el año 2018 era la primera vez que se dictaba esta unidad en la materia. En la primer clase realicé la pregunta sobre si les interesaba algunos datos en particular para analizar o algún dataset. Un alumno nos acercó su inquietud y compartió el dataset que es el que vamos a usar en este laboratorio.\n",
        "\n",
        "El dataset contiene mediciones de una toma de corriente trifásica.\n",
        "\n",
        "Vea más sobre corrienta alterna en https://es.wikipedia.org/wiki/Corriente_alterna\n",
        "\n",
        "Notará que las señales son senoidales.\n",
        "\n"
      ]
    },
    {
      "cell_type": "markdown",
      "metadata": {
        "id": "qzXxPXaoKuVk",
        "colab_type": "text"
      },
      "source": [
        "## Carga del dataset"
      ]
    },
    {
      "cell_type": "markdown",
      "metadata": {
        "id": "j72fwhSrUvM1",
        "colab_type": "text"
      },
      "source": [
        "### por pasos: chusmeando con la CLI primero, luego importar con pandas"
      ]
    },
    {
      "cell_type": "code",
      "metadata": {
        "id": "PEcilBm1Kuv2",
        "colab_type": "code",
        "outputId": "0eb5b68a-5383-4cd5-e72f-3e1d3ecc8ab8",
        "colab": {
          "base_uri": "https://localhost:8080/"
        }
      },
      "source": [
        "!wget  https://github.com/anadiedrichs/time-series-analysis/raw/master/datasets/forma_de_onda/forma_de_onda.csv"
      ],
      "execution_count": 0,
      "outputs": [
        {
          "output_type": "stream",
          "text": [
            "--2019-10-10 16:03:40--  https://github.com/anadiedrichs/time-series-analysis/raw/master/datasets/forma_de_onda/forma_de_onda.csv\n",
            "Resolving github.com (github.com)... 140.82.114.4\n",
            "Connecting to github.com (github.com)|140.82.114.4|:443... connected.\n",
            "HTTP request sent, awaiting response... 302 Found\n",
            "Location: https://raw.githubusercontent.com/anadiedrichs/time-series-analysis/master/datasets/forma_de_onda/forma_de_onda.csv [following]\n",
            "--2019-10-10 16:03:40--  https://raw.githubusercontent.com/anadiedrichs/time-series-analysis/master/datasets/forma_de_onda/forma_de_onda.csv\n",
            "Resolving raw.githubusercontent.com (raw.githubusercontent.com)... 151.101.0.133, 151.101.64.133, 151.101.128.133, ...\n",
            "Connecting to raw.githubusercontent.com (raw.githubusercontent.com)|151.101.0.133|:443... connected.\n",
            "HTTP request sent, awaiting response... 200 OK\n",
            "Length: 48250410 (46M) [text/plain]\n",
            "Saving to: ‘forma_de_onda.csv.1’\n",
            "\n",
            "forma_de_onda.csv.1 100%[===================>]  46.01M   166MB/s    in 0.3s    \n",
            "\n",
            "2019-10-10 16:03:41 (166 MB/s) - ‘forma_de_onda.csv.1’ saved [48250410/48250410]\n",
            "\n"
          ],
          "name": "stdout"
        }
      ]
    },
    {
      "cell_type": "code",
      "metadata": {
        "id": "CPoAcyQpOf5a",
        "colab_type": "code",
        "outputId": "d20029d6-9c06-4388-a680-4545fbe27f50",
        "colab": {
          "base_uri": "https://localhost:8080/"
        }
      },
      "source": [
        "!ls -lh"
      ],
      "execution_count": 0,
      "outputs": [
        {
          "output_type": "stream",
          "text": [
            "total 140M\n",
            "-rw-r--r-- 1 root root  47M Oct 10 15:17 forma_de_onda.csv\n",
            "-rw-r--r-- 1 root root  47M Oct 10 16:03 forma_de_onda.csv.1\n",
            "-rw-r--r-- 1 root root  48M Oct 10 15:11 forma_de_onda.txt\n",
            "drwxr-xr-x 1 root root 4.0K Aug 27 16:17 sample_data\n"
          ],
          "name": "stdout"
        }
      ]
    },
    {
      "cell_type": "markdown",
      "metadata": {
        "id": "diASofnZU8A4",
        "colab_type": "text"
      },
      "source": [
        "Notamos que forma_de_onda.csv pesa unos 47 Megabytes.\n",
        "Chusmeo las primeras líneas"
      ]
    },
    {
      "cell_type": "code",
      "metadata": {
        "id": "pAyVSMn2OiW8",
        "colab_type": "code",
        "outputId": "11f681d5-d1a0-4c30-97b1-16d68887bfa8",
        "colab": {
          "base_uri": "https://localhost:8080/"
        }
      },
      "source": [
        "!head forma_de_onda.csv"
      ],
      "execution_count": 0,
      "outputs": [
        {
          "output_type": "stream",
          "text": [
            "\"Fecha\",\"Hora\",\"AN(V)\",\"A(A)\",\"BN(V)\",\"B(A)\",\"CN(V)\",\"C(A)\",\"NG(V)\",\"N(A)\"\n",
            "09/20/18,\"18:38:36.120\",313.6751,-154.1138,-66.1186,78.2013,-240.5648,64.4684,0,42.3431\n",
            "09/20/18,\"18:38:36.120\",311.6035,-144.1956,-42.252,71.3348,-258.9934,68.6646,-0.0863,28.2288\n",
            "09/20/18,\"18:38:36.121\",305.216,-128.1738,-16.2275,64.0869,-275.9115,70.5719,-0.2158,6.8665\n",
            "09/20/18,\"18:38:36.121\",291.7506,-111.7706,8.5885,58.7463,-289.3769,72.4792,-0.2158,-17.5476\n",
            "09/20/18,\"18:38:36.121\",273.8831,-102.9968,31.8509,54.5502,-299.6054,79.3457,-0.1295,-39.2914\n",
            "09/20/18,\"18:38:36.121\",254.6344,-99.9451,54.8111,47.3022,-305.6908,90.7898,-0.0432,-51.1169\n",
            "09/20/18,\"18:38:36.122\",235.4721,-98.8007,79.3682,36.2396,-309.1434,106.8115,-0.0863,-57.9834\n",
            "09/20/18,\"18:38:36.122\",215.0582,-94.986,105.6085,23.6511,-311.4308,122.8333,-0.259,-68.6646\n",
            "09/20/18,\"18:38:36.122\",191.4074,-85.8307,132.3236,12.97,-312.9414,134.6588,-0.3884,-85.8307\n"
          ],
          "name": "stdout"
        }
      ]
    },
    {
      "cell_type": "markdown",
      "metadata": {
        "id": "ZdA-AEqdVNhj",
        "colab_type": "text"
      },
      "source": [
        "Observe como están separados los campos de información (por coma), el formato de la fecha y la hora.\n",
        "\n",
        "\n",
        "Importamos usando la funcion read_csv, puede demorar un poco en ejecutarse."
      ]
    },
    {
      "cell_type": "code",
      "metadata": {
        "id": "S8-DQKasOnV-",
        "colab_type": "code",
        "colab": {}
      },
      "source": [
        "import pandas as pd\n",
        "from pandas import Series\n",
        "data = pd.read_csv('forma_de_onda.csv',header=0, parse_dates=[0],squeeze=True) #index_col=0,\n"
      ],
      "execution_count": 0,
      "outputs": []
    },
    {
      "cell_type": "markdown",
      "metadata": {
        "id": "Pu7tTTJXSiJn",
        "colab_type": "text"
      },
      "source": [
        "index_col es 0 : toma la primer columna como indice por defecto \n",
        "\n",
        "\n",
        "header es 0, la primer fila es usada como cabecera\n",
        "\n",
        "\n",
        "parse_dates es True, intenta convertir los tipos de datos a tipo DateTime\n",
        "\n",
        "La option squeeze=True regresa tipo Series"
      ]
    },
    {
      "cell_type": "markdown",
      "metadata": {
        "id": "pmoGcUZmTj2T",
        "colab_type": "text"
      },
      "source": [
        "Mostramos las primeras 10 líneas del dataset"
      ]
    },
    {
      "cell_type": "code",
      "metadata": {
        "id": "ZQX3eIwRRr5N",
        "colab_type": "code",
        "outputId": "9f96c1a9-01fe-4d18-9be1-d345199fa05b",
        "colab": {
          "base_uri": "https://localhost:8080/"
        }
      },
      "source": [
        "data.head(10) "
      ],
      "execution_count": 0,
      "outputs": [
        {
          "output_type": "execute_result",
          "data": {
            "text/html": [
              "<div>\n",
              "<style scoped>\n",
              "    .dataframe tbody tr th:only-of-type {\n",
              "        vertical-align: middle;\n",
              "    }\n",
              "\n",
              "    .dataframe tbody tr th {\n",
              "        vertical-align: top;\n",
              "    }\n",
              "\n",
              "    .dataframe thead th {\n",
              "        text-align: right;\n",
              "    }\n",
              "</style>\n",
              "<table border=\"1\" class=\"dataframe\">\n",
              "  <thead>\n",
              "    <tr style=\"text-align: right;\">\n",
              "      <th></th>\n",
              "      <th>Fecha</th>\n",
              "      <th>Hora</th>\n",
              "      <th>AN(V)</th>\n",
              "      <th>A(A)</th>\n",
              "      <th>BN(V)</th>\n",
              "      <th>B(A)</th>\n",
              "      <th>CN(V)</th>\n",
              "      <th>C(A)</th>\n",
              "      <th>NG(V)</th>\n",
              "      <th>N(A)</th>\n",
              "    </tr>\n",
              "  </thead>\n",
              "  <tbody>\n",
              "    <tr>\n",
              "      <th>0</th>\n",
              "      <td>2018-09-20</td>\n",
              "      <td>18:38:36.120</td>\n",
              "      <td>313.6751</td>\n",
              "      <td>-154.1138</td>\n",
              "      <td>-66.1186</td>\n",
              "      <td>78.2013</td>\n",
              "      <td>-240.5648</td>\n",
              "      <td>64.4684</td>\n",
              "      <td>0.0000</td>\n",
              "      <td>42.3431</td>\n",
              "    </tr>\n",
              "    <tr>\n",
              "      <th>1</th>\n",
              "      <td>2018-09-20</td>\n",
              "      <td>18:38:36.120</td>\n",
              "      <td>311.6035</td>\n",
              "      <td>-144.1956</td>\n",
              "      <td>-42.2520</td>\n",
              "      <td>71.3348</td>\n",
              "      <td>-258.9934</td>\n",
              "      <td>68.6646</td>\n",
              "      <td>-0.0863</td>\n",
              "      <td>28.2288</td>\n",
              "    </tr>\n",
              "    <tr>\n",
              "      <th>2</th>\n",
              "      <td>2018-09-20</td>\n",
              "      <td>18:38:36.121</td>\n",
              "      <td>305.2160</td>\n",
              "      <td>-128.1738</td>\n",
              "      <td>-16.2275</td>\n",
              "      <td>64.0869</td>\n",
              "      <td>-275.9115</td>\n",
              "      <td>70.5719</td>\n",
              "      <td>-0.2158</td>\n",
              "      <td>6.8665</td>\n",
              "    </tr>\n",
              "    <tr>\n",
              "      <th>3</th>\n",
              "      <td>2018-09-20</td>\n",
              "      <td>18:38:36.121</td>\n",
              "      <td>291.7506</td>\n",
              "      <td>-111.7706</td>\n",
              "      <td>8.5885</td>\n",
              "      <td>58.7463</td>\n",
              "      <td>-289.3769</td>\n",
              "      <td>72.4792</td>\n",
              "      <td>-0.2158</td>\n",
              "      <td>-17.5476</td>\n",
              "    </tr>\n",
              "    <tr>\n",
              "      <th>4</th>\n",
              "      <td>2018-09-20</td>\n",
              "      <td>18:38:36.121</td>\n",
              "      <td>273.8831</td>\n",
              "      <td>-102.9968</td>\n",
              "      <td>31.8509</td>\n",
              "      <td>54.5502</td>\n",
              "      <td>-299.6054</td>\n",
              "      <td>79.3457</td>\n",
              "      <td>-0.1295</td>\n",
              "      <td>-39.2914</td>\n",
              "    </tr>\n",
              "    <tr>\n",
              "      <th>5</th>\n",
              "      <td>2018-09-20</td>\n",
              "      <td>18:38:36.121</td>\n",
              "      <td>254.6344</td>\n",
              "      <td>-99.9451</td>\n",
              "      <td>54.8111</td>\n",
              "      <td>47.3022</td>\n",
              "      <td>-305.6908</td>\n",
              "      <td>90.7898</td>\n",
              "      <td>-0.0432</td>\n",
              "      <td>-51.1169</td>\n",
              "    </tr>\n",
              "    <tr>\n",
              "      <th>6</th>\n",
              "      <td>2018-09-20</td>\n",
              "      <td>18:38:36.122</td>\n",
              "      <td>235.4721</td>\n",
              "      <td>-98.8007</td>\n",
              "      <td>79.3682</td>\n",
              "      <td>36.2396</td>\n",
              "      <td>-309.1434</td>\n",
              "      <td>106.8115</td>\n",
              "      <td>-0.0863</td>\n",
              "      <td>-57.9834</td>\n",
              "    </tr>\n",
              "    <tr>\n",
              "      <th>7</th>\n",
              "      <td>2018-09-20</td>\n",
              "      <td>18:38:36.122</td>\n",
              "      <td>215.0582</td>\n",
              "      <td>-94.9860</td>\n",
              "      <td>105.6085</td>\n",
              "      <td>23.6511</td>\n",
              "      <td>-311.4308</td>\n",
              "      <td>122.8333</td>\n",
              "      <td>-0.2590</td>\n",
              "      <td>-68.6646</td>\n",
              "    </tr>\n",
              "    <tr>\n",
              "      <th>8</th>\n",
              "      <td>2018-09-20</td>\n",
              "      <td>18:38:36.122</td>\n",
              "      <td>191.4074</td>\n",
              "      <td>-85.8307</td>\n",
              "      <td>132.3236</td>\n",
              "      <td>12.9700</td>\n",
              "      <td>-312.9414</td>\n",
              "      <td>134.6588</td>\n",
              "      <td>-0.3884</td>\n",
              "      <td>-85.8307</td>\n",
              "    </tr>\n",
              "    <tr>\n",
              "      <th>9</th>\n",
              "      <td>2018-09-20</td>\n",
              "      <td>18:38:36.122</td>\n",
              "      <td>164.5629</td>\n",
              "      <td>-73.6237</td>\n",
              "      <td>157.8733</td>\n",
              "      <td>4.1962</td>\n",
              "      <td>-313.9340</td>\n",
              "      <td>141.1438</td>\n",
              "      <td>-0.3453</td>\n",
              "      <td>-104.1412</td>\n",
              "    </tr>\n",
              "  </tbody>\n",
              "</table>\n",
              "</div>"
            ],
            "text/plain": [
              "       Fecha          Hora     AN(V)  ...      C(A)   NG(V)      N(A)\n",
              "0 2018-09-20  18:38:36.120  313.6751  ...   64.4684  0.0000   42.3431\n",
              "1 2018-09-20  18:38:36.120  311.6035  ...   68.6646 -0.0863   28.2288\n",
              "2 2018-09-20  18:38:36.121  305.2160  ...   70.5719 -0.2158    6.8665\n",
              "3 2018-09-20  18:38:36.121  291.7506  ...   72.4792 -0.2158  -17.5476\n",
              "4 2018-09-20  18:38:36.121  273.8831  ...   79.3457 -0.1295  -39.2914\n",
              "5 2018-09-20  18:38:36.121  254.6344  ...   90.7898 -0.0432  -51.1169\n",
              "6 2018-09-20  18:38:36.122  235.4721  ...  106.8115 -0.0863  -57.9834\n",
              "7 2018-09-20  18:38:36.122  215.0582  ...  122.8333 -0.2590  -68.6646\n",
              "8 2018-09-20  18:38:36.122  191.4074  ...  134.6588 -0.3884  -85.8307\n",
              "9 2018-09-20  18:38:36.122  164.5629  ...  141.1438 -0.3453 -104.1412\n",
              "\n",
              "[10 rows x 10 columns]"
            ]
          },
          "metadata": {
            "tags": []
          },
          "execution_count": 47
        }
      ]
    },
    {
      "cell_type": "code",
      "metadata": {
        "id": "H12BREmNQfLq",
        "colab_type": "code",
        "outputId": "1ac2c111-81a3-4bd4-909a-62da480f7392",
        "colab": {
          "base_uri": "https://localhost:8080/"
        }
      },
      "source": [
        "type(data) #el tipo de variable que es data, es un DataFrame"
      ],
      "execution_count": 0,
      "outputs": [
        {
          "output_type": "execute_result",
          "data": {
            "text/plain": [
              "pandas.core.frame.DataFrame"
            ]
          },
          "metadata": {
            "tags": []
          },
          "execution_count": 48
        }
      ]
    },
    {
      "cell_type": "markdown",
      "metadata": {
        "id": "33CBohDDVvND",
        "colab_type": "text"
      },
      "source": [
        "## Accediendo a pedacitos del dataset"
      ]
    },
    {
      "cell_type": "markdown",
      "metadata": {
        "id": "YIx_EZstWBlR",
        "colab_type": "text"
      },
      "source": [
        "Veo desde la fila 1 a la 20, las columnas 2 a la 7"
      ]
    },
    {
      "cell_type": "code",
      "metadata": {
        "id": "5ENTzw4KV036",
        "colab_type": "code",
        "outputId": "a58b365c-cb29-488c-8aa3-83a541ff3df5",
        "colab": {
          "base_uri": "https://localhost:8080/",
          "height": 638
        }
      },
      "source": [
        "data.iloc[1:20,2:7]"
      ],
      "execution_count": 0,
      "outputs": [
        {
          "output_type": "execute_result",
          "data": {
            "text/html": [
              "<div>\n",
              "<style scoped>\n",
              "    .dataframe tbody tr th:only-of-type {\n",
              "        vertical-align: middle;\n",
              "    }\n",
              "\n",
              "    .dataframe tbody tr th {\n",
              "        vertical-align: top;\n",
              "    }\n",
              "\n",
              "    .dataframe thead th {\n",
              "        text-align: right;\n",
              "    }\n",
              "</style>\n",
              "<table border=\"1\" class=\"dataframe\">\n",
              "  <thead>\n",
              "    <tr style=\"text-align: right;\">\n",
              "      <th></th>\n",
              "      <th>AN(V)</th>\n",
              "      <th>A(A)</th>\n",
              "      <th>BN(V)</th>\n",
              "      <th>B(A)</th>\n",
              "      <th>CN(V)</th>\n",
              "    </tr>\n",
              "  </thead>\n",
              "  <tbody>\n",
              "    <tr>\n",
              "      <th>1</th>\n",
              "      <td>311.6035</td>\n",
              "      <td>-144.1956</td>\n",
              "      <td>-42.2520</td>\n",
              "      <td>71.3348</td>\n",
              "      <td>-258.9934</td>\n",
              "    </tr>\n",
              "    <tr>\n",
              "      <th>2</th>\n",
              "      <td>305.2160</td>\n",
              "      <td>-128.1738</td>\n",
              "      <td>-16.2275</td>\n",
              "      <td>64.0869</td>\n",
              "      <td>-275.9115</td>\n",
              "    </tr>\n",
              "    <tr>\n",
              "      <th>3</th>\n",
              "      <td>291.7506</td>\n",
              "      <td>-111.7706</td>\n",
              "      <td>8.5885</td>\n",
              "      <td>58.7463</td>\n",
              "      <td>-289.3769</td>\n",
              "    </tr>\n",
              "    <tr>\n",
              "      <th>4</th>\n",
              "      <td>273.8831</td>\n",
              "      <td>-102.9968</td>\n",
              "      <td>31.8509</td>\n",
              "      <td>54.5502</td>\n",
              "      <td>-299.6054</td>\n",
              "    </tr>\n",
              "    <tr>\n",
              "      <th>5</th>\n",
              "      <td>254.6344</td>\n",
              "      <td>-99.9451</td>\n",
              "      <td>54.8111</td>\n",
              "      <td>47.3022</td>\n",
              "      <td>-305.6908</td>\n",
              "    </tr>\n",
              "    <tr>\n",
              "      <th>6</th>\n",
              "      <td>235.4721</td>\n",
              "      <td>-98.8007</td>\n",
              "      <td>79.3682</td>\n",
              "      <td>36.2396</td>\n",
              "      <td>-309.1434</td>\n",
              "    </tr>\n",
              "    <tr>\n",
              "      <th>7</th>\n",
              "      <td>215.0582</td>\n",
              "      <td>-94.9860</td>\n",
              "      <td>105.6085</td>\n",
              "      <td>23.6511</td>\n",
              "      <td>-311.4308</td>\n",
              "    </tr>\n",
              "    <tr>\n",
              "      <th>8</th>\n",
              "      <td>191.4074</td>\n",
              "      <td>-85.8307</td>\n",
              "      <td>132.3236</td>\n",
              "      <td>12.9700</td>\n",
              "      <td>-312.9414</td>\n",
              "    </tr>\n",
              "    <tr>\n",
              "      <th>9</th>\n",
              "      <td>164.5629</td>\n",
              "      <td>-73.6237</td>\n",
              "      <td>157.8733</td>\n",
              "      <td>4.1962</td>\n",
              "      <td>-313.9340</td>\n",
              "    </tr>\n",
              "    <tr>\n",
              "      <th>10</th>\n",
              "      <td>136.0784</td>\n",
              "      <td>-61.4166</td>\n",
              "      <td>181.3947</td>\n",
              "      <td>-3.4332</td>\n",
              "      <td>-314.3656</td>\n",
              "    </tr>\n",
              "    <tr>\n",
              "      <th>11</th>\n",
              "      <td>107.7233</td>\n",
              "      <td>-51.1169</td>\n",
              "      <td>203.4054</td>\n",
              "      <td>-14.1144</td>\n",
              "      <td>-314.3224</td>\n",
              "    </tr>\n",
              "    <tr>\n",
              "      <th>12</th>\n",
              "      <td>82.7346</td>\n",
              "      <td>-42.7246</td>\n",
              "      <td>223.3877</td>\n",
              "      <td>-27.0844</td>\n",
              "      <td>-314.0203</td>\n",
              "    </tr>\n",
              "    <tr>\n",
              "      <th>13</th>\n",
              "      <td>55.4154</td>\n",
              "      <td>-33.5693</td>\n",
              "      <td>245.0533</td>\n",
              "      <td>-43.1061</td>\n",
              "      <td>-313.1140</td>\n",
              "    </tr>\n",
              "    <tr>\n",
              "      <th>14</th>\n",
              "      <td>28.5277</td>\n",
              "      <td>-25.1770</td>\n",
              "      <td>263.9998</td>\n",
              "      <td>-57.9834</td>\n",
              "      <td>-310.3087</td>\n",
              "    </tr>\n",
              "    <tr>\n",
              "      <th>15</th>\n",
              "      <td>2.6327</td>\n",
              "      <td>-17.5476</td>\n",
              "      <td>280.7452</td>\n",
              "      <td>-70.9534</td>\n",
              "      <td>-300.2528</td>\n",
              "    </tr>\n",
              "    <tr>\n",
              "      <th>16</th>\n",
              "      <td>-21.2771</td>\n",
              "      <td>-12.2070</td>\n",
              "      <td>294.8148</td>\n",
              "      <td>-82.0160</td>\n",
              "      <td>-282.4716</td>\n",
              "    </tr>\n",
              "    <tr>\n",
              "      <th>17</th>\n",
              "      <td>-43.7194</td>\n",
              "      <td>-6.4850</td>\n",
              "      <td>302.0223</td>\n",
              "      <td>-92.3157</td>\n",
              "      <td>-262.4461</td>\n",
              "    </tr>\n",
              "    <tr>\n",
              "      <th>18</th>\n",
              "      <td>-67.3271</td>\n",
              "      <td>3.0518</td>\n",
              "      <td>305.5613</td>\n",
              "      <td>-107.5745</td>\n",
              "      <td>-243.7585</td>\n",
              "    </tr>\n",
              "    <tr>\n",
              "      <th>19</th>\n",
              "      <td>-93.4810</td>\n",
              "      <td>17.1661</td>\n",
              "      <td>308.3234</td>\n",
              "      <td>-127.4109</td>\n",
              "      <td>-225.4162</td>\n",
              "    </tr>\n",
              "  </tbody>\n",
              "</table>\n",
              "</div>"
            ],
            "text/plain": [
              "       AN(V)      A(A)     BN(V)      B(A)     CN(V)\n",
              "1   311.6035 -144.1956  -42.2520   71.3348 -258.9934\n",
              "2   305.2160 -128.1738  -16.2275   64.0869 -275.9115\n",
              "3   291.7506 -111.7706    8.5885   58.7463 -289.3769\n",
              "4   273.8831 -102.9968   31.8509   54.5502 -299.6054\n",
              "5   254.6344  -99.9451   54.8111   47.3022 -305.6908\n",
              "6   235.4721  -98.8007   79.3682   36.2396 -309.1434\n",
              "7   215.0582  -94.9860  105.6085   23.6511 -311.4308\n",
              "8   191.4074  -85.8307  132.3236   12.9700 -312.9414\n",
              "9   164.5629  -73.6237  157.8733    4.1962 -313.9340\n",
              "10  136.0784  -61.4166  181.3947   -3.4332 -314.3656\n",
              "11  107.7233  -51.1169  203.4054  -14.1144 -314.3224\n",
              "12   82.7346  -42.7246  223.3877  -27.0844 -314.0203\n",
              "13   55.4154  -33.5693  245.0533  -43.1061 -313.1140\n",
              "14   28.5277  -25.1770  263.9998  -57.9834 -310.3087\n",
              "15    2.6327  -17.5476  280.7452  -70.9534 -300.2528\n",
              "16  -21.2771  -12.2070  294.8148  -82.0160 -282.4716\n",
              "17  -43.7194   -6.4850  302.0223  -92.3157 -262.4461\n",
              "18  -67.3271    3.0518  305.5613 -107.5745 -243.7585\n",
              "19  -93.4810   17.1661  308.3234 -127.4109 -225.4162"
            ]
          },
          "metadata": {
            "tags": []
          },
          "execution_count": 49
        }
      ]
    },
    {
      "cell_type": "markdown",
      "metadata": {
        "id": "aPyub-geWI4Y",
        "colab_type": "text"
      },
      "source": [
        "Grafico un rango del dataset"
      ]
    },
    {
      "cell_type": "code",
      "metadata": {
        "id": "iADLliEaT-EU",
        "colab_type": "code",
        "outputId": "bc5703b6-96e8-40a9-f9c2-2a67d0e77fed",
        "colab": {
          "base_uri": "https://localhost:8080/",
          "height": 287
        }
      },
      "source": [
        "data.iloc[1:100,2:7].plot()"
      ],
      "execution_count": 0,
      "outputs": [
        {
          "output_type": "execute_result",
          "data": {
            "text/plain": [
              "<matplotlib.axes._subplots.AxesSubplot at 0x7f12c65ce0f0>"
            ]
          },
          "metadata": {
            "tags": []
          },
          "execution_count": 50
        },
        {
          "output_type": "display_data",
          "data": {
            "image/png": "[encoded data removed]",
            "text/plain": [
              "<Figure size 432x288 with 1 Axes>"
            ]
          },
          "metadata": {
            "tags": []
          }
        }
      ]
    },
    {
      "cell_type": "markdown",
      "metadata": {
        "id": "d3P5LZeYWW4o",
        "colab_type": "text"
      },
      "source": [
        "## Propiedades del dataset"
      ]
    },
    {
      "cell_type": "markdown",
      "metadata": {
        "id": "4LaXD1BTWegq",
        "colab_type": "text"
      },
      "source": [
        "Cuántas filas y columnas tiene"
      ]
    },
    {
      "cell_type": "code",
      "metadata": {
        "id": "lO2dbCkPWakd",
        "colab_type": "code",
        "outputId": "70707182-e6f1-46f4-e8b5-3327a965603e",
        "colab": {
          "base_uri": "https://localhost:8080/",
          "height": 35
        }
      },
      "source": [
        "data.shape"
      ],
      "execution_count": 0,
      "outputs": [
        {
          "output_type": "execute_result",
          "data": {
            "text/plain": [
              "(524088, 10)"
            ]
          },
          "metadata": {
            "tags": []
          },
          "execution_count": 51
        }
      ]
    },
    {
      "cell_type": "markdown",
      "metadata": {
        "id": "pc-ZK5hoWhMX",
        "colab_type": "text"
      },
      "source": [
        "Son las mismas columnas que miramos ejecutando *head*"
      ]
    },
    {
      "cell_type": "code",
      "metadata": {
        "id": "Qa9R6A85Wjhr",
        "colab_type": "code",
        "outputId": "3ea4f976-6524-4dc7-ca3e-1160425a6205",
        "colab": {
          "base_uri": "https://localhost:8080/",
          "height": 359
        }
      },
      "source": [
        "data.head(10)"
      ],
      "execution_count": 0,
      "outputs": [
        {
          "output_type": "execute_result",
          "data": {
            "text/html": [
              "<div>\n",
              "<style scoped>\n",
              "    .dataframe tbody tr th:only-of-type {\n",
              "        vertical-align: middle;\n",
              "    }\n",
              "\n",
              "    .dataframe tbody tr th {\n",
              "        vertical-align: top;\n",
              "    }\n",
              "\n",
              "    .dataframe thead th {\n",
              "        text-align: right;\n",
              "    }\n",
              "</style>\n",
              "<table border=\"1\" class=\"dataframe\">\n",
              "  <thead>\n",
              "    <tr style=\"text-align: right;\">\n",
              "      <th></th>\n",
              "      <th>Fecha</th>\n",
              "      <th>Hora</th>\n",
              "      <th>AN(V)</th>\n",
              "      <th>A(A)</th>\n",
              "      <th>BN(V)</th>\n",
              "      <th>B(A)</th>\n",
              "      <th>CN(V)</th>\n",
              "      <th>C(A)</th>\n",
              "      <th>NG(V)</th>\n",
              "      <th>N(A)</th>\n",
              "    </tr>\n",
              "  </thead>\n",
              "  <tbody>\n",
              "    <tr>\n",
              "      <th>0</th>\n",
              "      <td>2018-09-20</td>\n",
              "      <td>18:38:36.120</td>\n",
              "      <td>313.6751</td>\n",
              "      <td>-154.1138</td>\n",
              "      <td>-66.1186</td>\n",
              "      <td>78.2013</td>\n",
              "      <td>-240.5648</td>\n",
              "      <td>64.4684</td>\n",
              "      <td>0.0000</td>\n",
              "      <td>42.3431</td>\n",
              "    </tr>\n",
              "    <tr>\n",
              "      <th>1</th>\n",
              "      <td>2018-09-20</td>\n",
              "      <td>18:38:36.120</td>\n",
              "      <td>311.6035</td>\n",
              "      <td>-144.1956</td>\n",
              "      <td>-42.2520</td>\n",
              "      <td>71.3348</td>\n",
              "      <td>-258.9934</td>\n",
              "      <td>68.6646</td>\n",
              "      <td>-0.0863</td>\n",
              "      <td>28.2288</td>\n",
              "    </tr>\n",
              "    <tr>\n",
              "      <th>2</th>\n",
              "      <td>2018-09-20</td>\n",
              "      <td>18:38:36.121</td>\n",
              "      <td>305.2160</td>\n",
              "      <td>-128.1738</td>\n",
              "      <td>-16.2275</td>\n",
              "      <td>64.0869</td>\n",
              "      <td>-275.9115</td>\n",
              "      <td>70.5719</td>\n",
              "      <td>-0.2158</td>\n",
              "      <td>6.8665</td>\n",
              "    </tr>\n",
              "    <tr>\n",
              "      <th>3</th>\n",
              "      <td>2018-09-20</td>\n",
              "      <td>18:38:36.121</td>\n",
              "      <td>291.7506</td>\n",
              "      <td>-111.7706</td>\n",
              "      <td>8.5885</td>\n",
              "      <td>58.7463</td>\n",
              "      <td>-289.3769</td>\n",
              "      <td>72.4792</td>\n",
              "      <td>-0.2158</td>\n",
              "      <td>-17.5476</td>\n",
              "    </tr>\n",
              "    <tr>\n",
              "      <th>4</th>\n",
              "      <td>2018-09-20</td>\n",
              "      <td>18:38:36.121</td>\n",
              "      <td>273.8831</td>\n",
              "      <td>-102.9968</td>\n",
              "      <td>31.8509</td>\n",
              "      <td>54.5502</td>\n",
              "      <td>-299.6054</td>\n",
              "      <td>79.3457</td>\n",
              "      <td>-0.1295</td>\n",
              "      <td>-39.2914</td>\n",
              "    </tr>\n",
              "    <tr>\n",
              "      <th>5</th>\n",
              "      <td>2018-09-20</td>\n",
              "      <td>18:38:36.121</td>\n",
              "      <td>254.6344</td>\n",
              "      <td>-99.9451</td>\n",
              "      <td>54.8111</td>\n",
              "      <td>47.3022</td>\n",
              "      <td>-305.6908</td>\n",
              "      <td>90.7898</td>\n",
              "      <td>-0.0432</td>\n",
              "      <td>-51.1169</td>\n",
              "    </tr>\n",
              "    <tr>\n",
              "      <th>6</th>\n",
              "      <td>2018-09-20</td>\n",
              "      <td>18:38:36.122</td>\n",
              "      <td>235.4721</td>\n",
              "      <td>-98.8007</td>\n",
              "      <td>79.3682</td>\n",
              "      <td>36.2396</td>\n",
              "      <td>-309.1434</td>\n",
              "      <td>106.8115</td>\n",
              "      <td>-0.0863</td>\n",
              "      <td>-57.9834</td>\n",
              "    </tr>\n",
              "    <tr>\n",
              "      <th>7</th>\n",
              "      <td>2018-09-20</td>\n",
              "      <td>18:38:36.122</td>\n",
              "      <td>215.0582</td>\n",
              "      <td>-94.9860</td>\n",
              "      <td>105.6085</td>\n",
              "      <td>23.6511</td>\n",
              "      <td>-311.4308</td>\n",
              "      <td>122.8333</td>\n",
              "      <td>-0.2590</td>\n",
              "      <td>-68.6646</td>\n",
              "    </tr>\n",
              "    <tr>\n",
              "      <th>8</th>\n",
              "      <td>2018-09-20</td>\n",
              "      <td>18:38:36.122</td>\n",
              "      <td>191.4074</td>\n",
              "      <td>-85.8307</td>\n",
              "      <td>132.3236</td>\n",
              "      <td>12.9700</td>\n",
              "      <td>-312.9414</td>\n",
              "      <td>134.6588</td>\n",
              "      <td>-0.3884</td>\n",
              "      <td>-85.8307</td>\n",
              "    </tr>\n",
              "    <tr>\n",
              "      <th>9</th>\n",
              "      <td>2018-09-20</td>\n",
              "      <td>18:38:36.122</td>\n",
              "      <td>164.5629</td>\n",
              "      <td>-73.6237</td>\n",
              "      <td>157.8733</td>\n",
              "      <td>4.1962</td>\n",
              "      <td>-313.9340</td>\n",
              "      <td>141.1438</td>\n",
              "      <td>-0.3453</td>\n",
              "      <td>-104.1412</td>\n",
              "    </tr>\n",
              "  </tbody>\n",
              "</table>\n",
              "</div>"
            ],
            "text/plain": [
              "       Fecha          Hora     AN(V)  ...      C(A)   NG(V)      N(A)\n",
              "0 2018-09-20  18:38:36.120  313.6751  ...   64.4684  0.0000   42.3431\n",
              "1 2018-09-20  18:38:36.120  311.6035  ...   68.6646 -0.0863   28.2288\n",
              "2 2018-09-20  18:38:36.121  305.2160  ...   70.5719 -0.2158    6.8665\n",
              "3 2018-09-20  18:38:36.121  291.7506  ...   72.4792 -0.2158  -17.5476\n",
              "4 2018-09-20  18:38:36.121  273.8831  ...   79.3457 -0.1295  -39.2914\n",
              "5 2018-09-20  18:38:36.121  254.6344  ...   90.7898 -0.0432  -51.1169\n",
              "6 2018-09-20  18:38:36.122  235.4721  ...  106.8115 -0.0863  -57.9834\n",
              "7 2018-09-20  18:38:36.122  215.0582  ...  122.8333 -0.2590  -68.6646\n",
              "8 2018-09-20  18:38:36.122  191.4074  ...  134.6588 -0.3884  -85.8307\n",
              "9 2018-09-20  18:38:36.122  164.5629  ...  141.1438 -0.3453 -104.1412\n",
              "\n",
              "[10 rows x 10 columns]"
            ]
          },
          "metadata": {
            "tags": []
          },
          "execution_count": 52
        }
      ]
    },
    {
      "cell_type": "markdown",
      "metadata": {
        "id": "q44t7yS5WzAC",
        "colab_type": "text"
      },
      "source": [
        "¿Lo siguiente muestra número de filas o columnas?"
      ]
    },
    {
      "cell_type": "code",
      "metadata": {
        "id": "KLw18UmQhcxT",
        "colab_type": "code",
        "outputId": "3f69be6e-6367-468e-e7d9-c888fca2b971",
        "colab": {
          "base_uri": "https://localhost:8080/",
          "height": 35
        }
      },
      "source": [
        "data.shape[0]"
      ],
      "execution_count": 0,
      "outputs": [
        {
          "output_type": "execute_result",
          "data": {
            "text/plain": [
              "524088"
            ]
          },
          "metadata": {
            "tags": []
          },
          "execution_count": 53
        }
      ]
    },
    {
      "cell_type": "markdown",
      "metadata": {
        "id": "tGMKg-Z4W4TM",
        "colab_type": "text"
      },
      "source": [
        "¿Lo siguiente muestra número de filas o columnas?"
      ]
    },
    {
      "cell_type": "code",
      "metadata": {
        "id": "yB0pe-vYhgOb",
        "colab_type": "code",
        "outputId": "2fae7733-3be8-4069-aa3f-43bd0beb44ae",
        "colab": {
          "base_uri": "https://localhost:8080/",
          "height": 35
        }
      },
      "source": [
        "data.shape[1]"
      ],
      "execution_count": 0,
      "outputs": [
        {
          "output_type": "execute_result",
          "data": {
            "text/plain": [
              "10"
            ]
          },
          "metadata": {
            "tags": []
          },
          "execution_count": 54
        }
      ]
    },
    {
      "cell_type": "markdown",
      "metadata": {
        "id": "21mqR70NXHVN",
        "colab_type": "text"
      },
      "source": [
        "Podemos observar de cada DataFrame algunas características estadísticas usando *describe()*"
      ]
    },
    {
      "cell_type": "code",
      "metadata": {
        "id": "b7UKM55WXDiQ",
        "colab_type": "code",
        "outputId": "19489c7b-6144-4490-bc0c-d27ea07c3814",
        "colab": {
          "base_uri": "https://localhost:8080/",
          "height": 297
        }
      },
      "source": [
        "data.describe()"
      ],
      "execution_count": 0,
      "outputs": [
        {
          "output_type": "execute_result",
          "data": {
            "text/html": [
              "<div>\n",
              "<style scoped>\n",
              "    .dataframe tbody tr th:only-of-type {\n",
              "        vertical-align: middle;\n",
              "    }\n",
              "\n",
              "    .dataframe tbody tr th {\n",
              "        vertical-align: top;\n",
              "    }\n",
              "\n",
              "    .dataframe thead th {\n",
              "        text-align: right;\n",
              "    }\n",
              "</style>\n",
              "<table border=\"1\" class=\"dataframe\">\n",
              "  <thead>\n",
              "    <tr style=\"text-align: right;\">\n",
              "      <th></th>\n",
              "      <th>AN(V)</th>\n",
              "      <th>A(A)</th>\n",
              "      <th>BN(V)</th>\n",
              "      <th>B(A)</th>\n",
              "      <th>CN(V)</th>\n",
              "      <th>C(A)</th>\n",
              "      <th>NG(V)</th>\n",
              "      <th>N(A)</th>\n",
              "    </tr>\n",
              "  </thead>\n",
              "  <tbody>\n",
              "    <tr>\n",
              "      <th>count</th>\n",
              "      <td>517241.000000</td>\n",
              "      <td>517241.000000</td>\n",
              "      <td>517241.000000</td>\n",
              "      <td>517241.000000</td>\n",
              "      <td>517241.000000</td>\n",
              "      <td>517241.000000</td>\n",
              "      <td>517241.000000</td>\n",
              "      <td>517241.000000</td>\n",
              "    </tr>\n",
              "    <tr>\n",
              "      <th>mean</th>\n",
              "      <td>0.041821</td>\n",
              "      <td>0.086277</td>\n",
              "      <td>0.076139</td>\n",
              "      <td>0.111673</td>\n",
              "      <td>0.055757</td>\n",
              "      <td>0.038909</td>\n",
              "      <td>-0.027649</td>\n",
              "      <td>0.021303</td>\n",
              "    </tr>\n",
              "    <tr>\n",
              "      <th>std</th>\n",
              "      <td>230.014488</td>\n",
              "      <td>102.165137</td>\n",
              "      <td>228.445619</td>\n",
              "      <td>114.830872</td>\n",
              "      <td>230.294228</td>\n",
              "      <td>95.693325</td>\n",
              "      <td>0.332933</td>\n",
              "      <td>67.514958</td>\n",
              "    </tr>\n",
              "    <tr>\n",
              "      <th>min</th>\n",
              "      <td>-315.617200</td>\n",
              "      <td>-248.336800</td>\n",
              "      <td>-313.847700</td>\n",
              "      <td>-211.334200</td>\n",
              "      <td>-315.228800</td>\n",
              "      <td>-188.446000</td>\n",
              "      <td>-1.165300</td>\n",
              "      <td>-141.143800</td>\n",
              "    </tr>\n",
              "    <tr>\n",
              "      <th>25%</th>\n",
              "      <td>-234.047900</td>\n",
              "      <td>-91.552700</td>\n",
              "      <td>-231.717300</td>\n",
              "      <td>-102.615400</td>\n",
              "      <td>-234.565800</td>\n",
              "      <td>-82.016000</td>\n",
              "      <td>-0.259000</td>\n",
              "      <td>-49.972500</td>\n",
              "    </tr>\n",
              "    <tr>\n",
              "      <th>50%</th>\n",
              "      <td>0.086300</td>\n",
              "      <td>-0.381500</td>\n",
              "      <td>0.302100</td>\n",
              "      <td>0.000000</td>\n",
              "      <td>0.388400</td>\n",
              "      <td>0.000000</td>\n",
              "      <td>0.000000</td>\n",
              "      <td>0.000000</td>\n",
              "    </tr>\n",
              "    <tr>\n",
              "      <th>75%</th>\n",
              "      <td>234.393100</td>\n",
              "      <td>91.934200</td>\n",
              "      <td>232.192100</td>\n",
              "      <td>102.615400</td>\n",
              "      <td>234.695200</td>\n",
              "      <td>82.397500</td>\n",
              "      <td>0.215800</td>\n",
              "      <td>49.972500</td>\n",
              "    </tr>\n",
              "    <tr>\n",
              "      <th>max</th>\n",
              "      <td>315.703500</td>\n",
              "      <td>250.625600</td>\n",
              "      <td>313.977200</td>\n",
              "      <td>212.860100</td>\n",
              "      <td>315.401400</td>\n",
              "      <td>187.301600</td>\n",
              "      <td>0.820000</td>\n",
              "      <td>139.999400</td>\n",
              "    </tr>\n",
              "  </tbody>\n",
              "</table>\n",
              "</div>"
            ],
            "text/plain": [
              "               AN(V)           A(A)  ...          NG(V)           N(A)\n",
              "count  517241.000000  517241.000000  ...  517241.000000  517241.000000\n",
              "mean        0.041821       0.086277  ...      -0.027649       0.021303\n",
              "std       230.014488     102.165137  ...       0.332933      67.514958\n",
              "min      -315.617200    -248.336800  ...      -1.165300    -141.143800\n",
              "25%      -234.047900     -91.552700  ...      -0.259000     -49.972500\n",
              "50%         0.086300      -0.381500  ...       0.000000       0.000000\n",
              "75%       234.393100      91.934200  ...       0.215800      49.972500\n",
              "max       315.703500     250.625600  ...       0.820000     139.999400\n",
              "\n",
              "[8 rows x 8 columns]"
            ]
          },
          "metadata": {
            "tags": []
          },
          "execution_count": 55
        }
      ]
    },
    {
      "cell_type": "markdown",
      "metadata": {
        "id": "FaJ6Kw4fXXeo",
        "colab_type": "text"
      },
      "source": [
        "## Valores perdidos"
      ]
    },
    {
      "cell_type": "markdown",
      "metadata": {
        "id": "ziS50Ji-XZlA",
        "colab_type": "text"
      },
      "source": [
        "Chusmeamos el dataset nuevamente"
      ]
    },
    {
      "cell_type": "code",
      "metadata": {
        "id": "gCcW7Tjuiddc",
        "colab_type": "code",
        "outputId": "9f6d7d98-bd43-472e-bba6-68c9b36a90ea",
        "colab": {
          "base_uri": "https://localhost:8080/",
          "height": 359
        }
      },
      "source": [
        "data.iloc[50:60,0:5]"
      ],
      "execution_count": 0,
      "outputs": [
        {
          "output_type": "execute_result",
          "data": {
            "text/html": [
              "<div>\n",
              "<style scoped>\n",
              "    .dataframe tbody tr th:only-of-type {\n",
              "        vertical-align: middle;\n",
              "    }\n",
              "\n",
              "    .dataframe tbody tr th {\n",
              "        vertical-align: top;\n",
              "    }\n",
              "\n",
              "    .dataframe thead th {\n",
              "        text-align: right;\n",
              "    }\n",
              "</style>\n",
              "<table border=\"1\" class=\"dataframe\">\n",
              "  <thead>\n",
              "    <tr style=\"text-align: right;\">\n",
              "      <th></th>\n",
              "      <th>Fecha</th>\n",
              "      <th>Hora</th>\n",
              "      <th>AN(V)</th>\n",
              "      <th>A(A)</th>\n",
              "      <th>BN(V)</th>\n",
              "    </tr>\n",
              "  </thead>\n",
              "  <tbody>\n",
              "    <tr>\n",
              "      <th>50</th>\n",
              "      <td>2018-09-20</td>\n",
              "      <td>18:38:36.133</td>\n",
              "      <td>-66.8955</td>\n",
              "      <td>38.1470</td>\n",
              "      <td>-236.2921</td>\n",
              "    </tr>\n",
              "    <tr>\n",
              "      <th>51</th>\n",
              "      <td>2018-09-20</td>\n",
              "      <td>18:38:36.134</td>\n",
              "      <td>-42.3384</td>\n",
              "      <td>30.1361</td>\n",
              "      <td>-254.5049</td>\n",
              "    </tr>\n",
              "    <tr>\n",
              "      <th>52</th>\n",
              "      <td>2018-09-20</td>\n",
              "      <td>18:38:36.134</td>\n",
              "      <td>-15.9686</td>\n",
              "      <td>22.1252</td>\n",
              "      <td>-271.9841</td>\n",
              "    </tr>\n",
              "    <tr>\n",
              "      <th>53</th>\n",
              "      <td>NaT</td>\n",
              "      <td>NaN</td>\n",
              "      <td>NaN</td>\n",
              "      <td>NaN</td>\n",
              "      <td>NaN</td>\n",
              "    </tr>\n",
              "    <tr>\n",
              "      <th>54</th>\n",
              "      <td>2018-09-20</td>\n",
              "      <td>18:38:36.134</td>\n",
              "      <td>9.3222</td>\n",
              "      <td>14.8773</td>\n",
              "      <td>-287.6937</td>\n",
              "    </tr>\n",
              "    <tr>\n",
              "      <th>55</th>\n",
              "      <td>2018-09-20</td>\n",
              "      <td>18:38:36.134</td>\n",
              "      <td>32.6277</td>\n",
              "      <td>10.2997</td>\n",
              "      <td>-298.7423</td>\n",
              "    </tr>\n",
              "    <tr>\n",
              "      <th>56</th>\n",
              "      <td>2018-09-20</td>\n",
              "      <td>18:38:36.135</td>\n",
              "      <td>55.2427</td>\n",
              "      <td>3.8147</td>\n",
              "      <td>-303.7055</td>\n",
              "    </tr>\n",
              "    <tr>\n",
              "      <th>57</th>\n",
              "      <td>2018-09-20</td>\n",
              "      <td>18:38:36.135</td>\n",
              "      <td>80.4472</td>\n",
              "      <td>-8.0109</td>\n",
              "      <td>-306.7266</td>\n",
              "    </tr>\n",
              "    <tr>\n",
              "      <th>58</th>\n",
              "      <td>2018-09-20</td>\n",
              "      <td>18:38:36.135</td>\n",
              "      <td>107.2054</td>\n",
              "      <td>-21.7438</td>\n",
              "      <td>-309.2298</td>\n",
              "    </tr>\n",
              "    <tr>\n",
              "      <th>59</th>\n",
              "      <td>2018-09-20</td>\n",
              "      <td>18:38:36.135</td>\n",
              "      <td>133.6615</td>\n",
              "      <td>-33.9508</td>\n",
              "      <td>-311.0856</td>\n",
              "    </tr>\n",
              "  </tbody>\n",
              "</table>\n",
              "</div>"
            ],
            "text/plain": [
              "        Fecha          Hora     AN(V)     A(A)     BN(V)\n",
              "50 2018-09-20  18:38:36.133  -66.8955  38.1470 -236.2921\n",
              "51 2018-09-20  18:38:36.134  -42.3384  30.1361 -254.5049\n",
              "52 2018-09-20  18:38:36.134  -15.9686  22.1252 -271.9841\n",
              "53        NaT           NaN       NaN      NaN       NaN\n",
              "54 2018-09-20  18:38:36.134    9.3222  14.8773 -287.6937\n",
              "55 2018-09-20  18:38:36.134   32.6277  10.2997 -298.7423\n",
              "56 2018-09-20  18:38:36.135   55.2427   3.8147 -303.7055\n",
              "57 2018-09-20  18:38:36.135   80.4472  -8.0109 -306.7266\n",
              "58 2018-09-20  18:38:36.135  107.2054 -21.7438 -309.2298\n",
              "59 2018-09-20  18:38:36.135  133.6615 -33.9508 -311.0856"
            ]
          },
          "metadata": {
            "tags": []
          },
          "execution_count": 56
        }
      ]
    },
    {
      "cell_type": "code",
      "metadata": {
        "id": "KGtDHcokmnVk",
        "colab_type": "code",
        "outputId": "52c84c88-002f-4315-b485-9eaf3c3cc330",
        "colab": {
          "base_uri": "https://localhost:8080/",
          "height": 287
        }
      },
      "source": [
        "data.iloc[1:100,2:7].plot()"
      ],
      "execution_count": 0,
      "outputs": [
        {
          "output_type": "execute_result",
          "data": {
            "text/plain": [
              "<matplotlib.axes._subplots.AxesSubplot at 0x7f12c7099da0>"
            ]
          },
          "metadata": {
            "tags": []
          },
          "execution_count": 41
        },
        {
          "output_type": "display_data",
          "data": {
            "image/png": "[encoded data removed]",
            "text/plain": [
              "<Figure size 432x288 with 1 Axes>"
            ]
          },
          "metadata": {
            "tags": []
          }
        }
      ]
    },
    {
      "cell_type": "markdown",
      "metadata": {
        "id": "56wEDLyPXlIW",
        "colab_type": "text"
      },
      "source": [
        "### [Actividad]\n",
        "\n",
        "Habrá notado que hay valores pedidos en la serie. \n",
        "\n",
        "Determine si reconstruye la señal compleando los valores perdidos e indicados como NaN o los ignora. Justifique"
      ]
    },
    {
      "cell_type": "markdown",
      "metadata": {
        "id": "92sQc0UuZkaJ",
        "colab_type": "text"
      },
      "source": [
        "SU RESPUESTA AQUI"
      ]
    },
    {
      "cell_type": "code",
      "metadata": {
        "id": "lam1Sg9yZjkB",
        "colab_type": "code",
        "colab": {}
      },
      "source": [
        ""
      ],
      "execution_count": 0,
      "outputs": []
    },
    {
      "cell_type": "markdown",
      "metadata": {
        "id": "drZiEfs1YeHI",
        "colab_type": "text"
      },
      "source": [
        "## [actividad] Intervalos de muestreo\n",
        "\n",
        "¿Cada cuánto tenemos una medición? ¿Qué nos puede decir sobre el intervalo de muestreo?\n",
        "\n"
      ]
    },
    {
      "cell_type": "markdown",
      "metadata": {
        "id": "GAW8EHl5Y-Fi",
        "colab_type": "text"
      },
      "source": [
        "**SU RESPUESTA AQUI**\n",
        "\n"
      ]
    },
    {
      "cell_type": "markdown",
      "metadata": {
        "id": "kRMeb0QBkTrx",
        "colab_type": "text"
      },
      "source": [
        "## [actividad] Análisis de la señal\n",
        "\n",
        "¿Son todas las ondas \"perfectamente\" senoidales?\n",
        "\n",
        "¿Por qué cree que alguna no?"
      ]
    },
    {
      "cell_type": "markdown",
      "metadata": {
        "id": "ZDpfBPr6YtZT",
        "colab_type": "text"
      },
      "source": [
        "**SU RESPUESTA AQUI**"
      ]
    },
    {
      "cell_type": "markdown",
      "metadata": {
        "id": "u5IeWpd0cXNd",
        "colab_type": "text"
      },
      "source": [
        "### [actividad] Calcule y grafique la FFT de la señal "
      ]
    },
    {
      "cell_type": "markdown",
      "metadata": {
        "id": "JvaG7Ij_c1Oe",
        "colab_type": "text"
      },
      "source": [
        "ESCRIBA SUS COMENTARIOS AQUI"
      ]
    },
    {
      "cell_type": "code",
      "metadata": {
        "id": "26QM2_DucWG_",
        "colab_type": "code",
        "colab": {}
      },
      "source": [
        ""
      ],
      "execution_count": 0,
      "outputs": []
    },
    {
      "cell_type": "markdown",
      "metadata": {
        "id": "LIILrXOwcjtq",
        "colab_type": "text"
      },
      "source": [
        "¿qué concluye al ver este gráfico?\n"
      ]
    },
    {
      "cell_type": "markdown",
      "metadata": {
        "id": "xfecfOeRc40r",
        "colab_type": "text"
      },
      "source": [
        "SU RESPUESTA AQUI"
      ]
    }
  ]
}