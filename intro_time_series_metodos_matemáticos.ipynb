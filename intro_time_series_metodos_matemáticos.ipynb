{
  "nbformat": 4,
  "nbformat_minor": 0,
  "metadata": {
    "colab": {
      "name": "intro-time-series-metodos-matemáticos.ipynb",
      "provenance": [],
      "include_colab_link": true
    },
    "kernelspec": {
      "name": "python3",
      "display_name": "Python 3"
    }
  },
  "cells": [
    {
      "cell_type": "markdown",
      "metadata": {
        "id": "view-in-github",
        "colab_type": "text"
      },
      "source": [
        "<a href=\"https://colab.research.google.com/github/anadiedrichs/time-series-analysis/blob/master/intro_time_series_metodos_matem%C3%A1ticos.ipynb\" target=\"_parent\"><img src=\"https://colab.research.google.com/assets/colab-badge.svg\" alt=\"Open In Colab\"/></a>"
      ]
    },
    {
      "cell_type": "markdown",
      "metadata": {
        "id": "aT8xO1VdYPda",
        "colab_type": "text"
      },
      "source": [
        "# Actividad métodos matemáticos - Unidad análisis de series temporales - Teleinformática IoT - 2020\n",
        "\n",
        "**Docente: Ing. Ana Laura Diedrichs**\n",
        "\n",
        "Contacto por otros horarios de consulta o dudas: \n",
        "* Email: ana.diedrichs@frm.utn.edu.ar\n",
        "* Telegram  @anadiedrichs\n",
        "\n",
        "## Objetivos del laboratorio:\n",
        "\n",
        "* Analizar una serie temporal para un problema específico\n",
        "* Fomentar el trabajo en clase, discusión y aportes de soluciones entre los participantes\n",
        "* Ser una entrada en calor o introducción del uso del entorno colab.research.google.com y librerías Python como pandas\n",
        "\n",
        "## Pre-requisitos o pre-condiciones\n",
        "* Tener una cuenta google (gmail)\n",
        "* Tener instalado el navegador google chrome \n",
        "* Contar con conectividad a Internet\n",
        "\n",
        "## Entrega y uso del laboratorio\n",
        "\n",
        "**USO**\n",
        "\n",
        "* Antes que cualquier cosa, **cree una copia de este notebook: Click en *File*, luego *Save a Copy in Drive***\n",
        "* Renombre el archivo con el siguiente formato: APELLIDO_NOMBRE_LEGAJO_titulonotebook.ipynb \n",
        "Ejemplo: DIEDRICHS_ANA_99999_proyecto_forma_de_onda_2019.ipynb\n",
        "* Use el notebook, complete las actividades y consignas que se elija. \n",
        "* Este laboratorio es una actividad individual.\n",
        "* Se fomenta el intercambio de opiniones en clase y exposición.\n",
        "\n",
        "**ENTREGA**\n",
        "\n",
        "* Una vez finalizado el laboratorio, complete [el formulario de entrega](https://forms.gle/41zGpepnFmKpvfzo9) indicando\n",
        " * Apellido\n",
        " * Nombre\n",
        " * Nro Legajo\n",
        " * Carrera\n",
        " * Actividad (cuál laboratorio o actividad)\n",
        " * link de su notebook. El mismo se obtiene si realiza click en *Share* (esquina superior derecha) y luego en *Get shareable link* \n",
        " \n",
        " \n",
        " No se aceptarán otras formas de entrega distintas a la mencionada.\n",
        " \n",
        " Fecha límite de entrega: 10 de octubre de 2019."
      ]
    },
    {
      "cell_type": "markdown",
      "metadata": {
        "id": "yRgKqWmw_88i",
        "colab_type": "text"
      },
      "source": [
        "# Métodos matemáticos varios para señales (series temporales)\n",
        "\n",
        "## Introducción al uso de numpy y scipy"
      ]
    },
    {
      "cell_type": "code",
      "metadata": {
        "id": "LO1PZ4EfAKkc",
        "colab_type": "code",
        "colab": {}
      },
      "source": [
        "import numpy as np\n",
        "import pandas as pd\n",
        "import scipy\n",
        "from matplotlib import pyplot"
      ],
      "execution_count": null,
      "outputs": []
    },
    {
      "cell_type": "markdown",
      "metadata": {
        "id": "wABzZaM_BvKR",
        "colab_type": "text"
      },
      "source": [
        "Constantes matemáticas como $\\pi$ y el número $e$ las extraemos de la librería numpy"
      ]
    },
    {
      "cell_type": "code",
      "metadata": {
        "id": "abJidnNJB4O5",
        "colab_type": "code",
        "colab": {
          "base_uri": "https://localhost:8080/",
          "height": 53
        },
        "outputId": "538e26a9-ef60-4c2d-9aaf-d159ab7c8000"
      },
      "source": [
        "print(np.pi)\n",
        "print(np.e)"
      ],
      "execution_count": null,
      "outputs": [
        {
          "output_type": "stream",
          "text": [
            "3.141592653589793\n",
            "2.718281828459045\n"
          ],
          "name": "stdout"
        }
      ]
    },
    {
      "cell_type": "markdown",
      "metadata": {
        "id": "CM6sBF8ECAat",
        "colab_type": "text"
      },
      "source": [
        "## Integrales\n",
        "\n",
        "\n"
      ]
    },
    {
      "cell_type": "markdown",
      "metadata": {
        "id": "WylR3Qp6Cq1_",
        "colab_type": "text"
      },
      "source": [
        "Ejemplo usando el método del trapecio, Wikipedia page: http://en.wikipedia.org/wiki/Trapezoidal_rule"
      ]
    },
    {
      "cell_type": "markdown",
      "metadata": {
        "id": "H12expaZCMlI",
        "colab_type": "text"
      },
      "source": [
        "¿Qué realiza el siguiente bloque de código? Reemplace este texto explicando/comentando"
      ]
    },
    {
      "cell_type": "markdown",
      "metadata": {
        "id": "0fG4sJ3p7krj",
        "colab_type": "text"
      },
      "source": [
        "Puede buscar la ayuda de las funciones usando **help(nombreDeLaFuncion)** en un bloque de código"
      ]
    },
    {
      "cell_type": "code",
      "metadata": {
        "id": "4has-Ix17jvQ",
        "colab_type": "code",
        "colab": {}
      },
      "source": [
        "help(np.linspace)"
      ],
      "execution_count": null,
      "outputs": []
    },
    {
      "cell_type": "code",
      "metadata": {
        "id": "5vCZNZlP-km_",
        "colab_type": "code",
        "colab": {
          "base_uri": "https://localhost:8080/",
          "height": 53
        },
        "outputId": "ab561d8c-8cb8-46e2-a7ff-2e8cc83bad06"
      },
      "source": [
        "import numpy as np\n",
        "x = np.linspace(0, 2*np.pi, 10)\n",
        "y = np.sin(x)\n",
        "print(x)"
      ],
      "execution_count": null,
      "outputs": [
        {
          "output_type": "stream",
          "text": [
            "[0.         0.6981317  1.3962634  2.0943951  2.7925268  3.4906585\n",
            " 4.1887902  4.88692191 5.58505361 6.28318531]\n"
          ],
          "name": "stdout"
        }
      ]
    },
    {
      "cell_type": "code",
      "metadata": {
        "id": "4KJAonbI8Yld",
        "colab_type": "code",
        "colab": {
          "base_uri": "https://localhost:8080/",
          "height": 71
        },
        "outputId": "08ba7556-42a5-4a6a-de14-b24cc1e35ad3"
      },
      "source": [
        "print(y)"
      ],
      "execution_count": null,
      "outputs": [
        {
          "output_type": "stream",
          "text": [
            "[ 0.00000000e+00  6.42787610e-01  9.84807753e-01  8.66025404e-01\n",
            "  3.42020143e-01 -3.42020143e-01 -8.66025404e-01 -9.84807753e-01\n",
            " -6.42787610e-01 -2.44929360e-16]\n"
          ],
          "name": "stdout"
        }
      ]
    },
    {
      "cell_type": "code",
      "metadata": {
        "id": "94ogr2358Tap",
        "colab_type": "code",
        "colab": {
          "base_uri": "https://localhost:8080/",
          "height": 269
        },
        "outputId": "a3b5b3bf-4c72-4ce4-d782-6b398279c2ba"
      },
      "source": [
        "\n",
        "pyplot.plot(x,y)\n",
        "pyplot.show()"
      ],
      "execution_count": null,
      "outputs": [
        {
          "output_type": "display_data",
          "data": {
            "image/png": "[encoded data removed]",
            "text/plain": [
              "<Figure size 432x288 with 1 Axes>"
            ]
          },
          "metadata": {
            "tags": []
          }
        }
      ]
    },
    {
      "cell_type": "code",
      "metadata": {
        "id": "Byihb7BMAPU5",
        "colab_type": "code",
        "colab": {
          "base_uri": "https://localhost:8080/",
          "height": 35
        },
        "outputId": "dbd49de9-a778-4089-f937-45f11b04726f"
      },
      "source": [
        "# use numpy's built in trapezoid-rule integration tool\n",
        "dy = np.trapz(y, x)\n",
        "dy"
      ],
      "execution_count": null,
      "outputs": [
        {
          "output_type": "execute_result",
          "data": {
            "text/plain": [
              "-1.3877787807814457e-16"
            ]
          },
          "metadata": {
            "tags": []
          },
          "execution_count": 10
        }
      ]
    },
    {
      "cell_type": "markdown",
      "metadata": {
        "id": "AvqHLXNxCcWO",
        "colab_type": "text"
      },
      "source": [
        "Existen varios métodos de integración numérica. La librería Scipy contiene varios de ellos\n",
        "https://docs.scipy.org/doc/scipy/reference/tutorial/integrate.html\n"
      ]
    },
    {
      "cell_type": "markdown",
      "metadata": {
        "id": "q7MudVD8GGq1",
        "colab_type": "text"
      },
      "source": [
        "Los notebooks también nos permiten agregar notaciones de Latex que sirven para escribir de forma más presentable notación matemática, como abajo se lista la función que graficamos"
      ]
    },
    {
      "cell_type": "markdown",
      "metadata": {
        "id": "RkEe_C_dFoFc",
        "colab_type": "text"
      },
      "source": [
        "\n",
        "\n",
        "$f(x) = \\sin(50*2\\pi x)+ 0.5 \\sin(80*2\\pi x) $"
      ]
    },
    {
      "cell_type": "code",
      "metadata": {
        "id": "S8GlwvGT8odr",
        "colab_type": "code",
        "colab": {
          "base_uri": "https://localhost:8080/",
          "height": 269
        },
        "outputId": "b0c8cc57-03ea-4bcb-f6b1-abe7efea3ea7"
      },
      "source": [
        "\n",
        "N = 600 # número de puntos de muestreo\n",
        "T = 1.0 / 800.0 # sample spacing\n",
        "x = np.linspace(0.0, N*T, N)\n",
        "y = np.sin(50.0 * 2.0*np.pi*x) + 0.5*np.sin(80.0 * 2.0*np.pi*x) # según la fórmula de arriba\n",
        "pyplot.plot(x, y)\n",
        "pyplot.grid()\n",
        "pyplot.show()"
      ],
      "execution_count": null,
      "outputs": [
        {
          "output_type": "display_data",
          "data": {
            "image/png": "[encoded data removed]",
            "text/plain": [
              "<Figure size 432x288 with 1 Axes>"
            ]
          },
          "metadata": {
            "tags": []
          }
        }
      ]
    },
    {
      "cell_type": "markdown",
      "metadata": {
        "id": "Cmom8kSfEEzE",
        "colab_type": "text"
      },
      "source": [
        "## FFT Fast Fourier Transform"
      ]
    },
    {
      "cell_type": "markdown",
      "metadata": {
        "id": "aKf_hxOyEJDN",
        "colab_type": "text"
      },
      "source": [
        "### su respuesta aqui\n",
        "¿Qué realiza el siguiente código? Escriba aqui detalle"
      ]
    },
    {
      "cell_type": "code",
      "metadata": {
        "id": "V6PgtLutE215",
        "colab_type": "code",
        "colab": {
          "base_uri": "https://localhost:8080/",
          "height": 361
        },
        "outputId": "858048bb-869e-4bd0-d83a-9af213e94347"
      },
      "source": [
        "N = 600 # número de puntos de muestreo\n",
        "T = 1.0 / 800.0 # sample spacing\n",
        "x = np.linspace(0.0, N*T, N)\n",
        "y = np.sin(50.0 * 2.0*np.pi*x) + 0.5*np.sin(80.0 * 2.0*np.pi*x) \n",
        "\n",
        "yf = fft(y)\n",
        "xf = np.linspace(0.0, 1.0/(2.0*T), N//2)\n",
        "import matplotlib.pyplot as plt\n",
        "\n",
        "# fig = plt.figure()\n",
        "\n",
        "plt.xlabel('xlabel')  # etiquete correctamente el eje x\n",
        "plt.ylabel('ylabel') # etiquete correctamente el eje y\n",
        "plt.plot(xf, 2.0/N * np.abs(yf[0:N//2]))\n",
        "plt.grid()\n",
        "plt.show()\n",
        "\n",
        "# fig.savefig('test.jpg')\n"
      ],
      "execution_count": null,
      "outputs": [
        {
          "output_type": "display_data",
          "data": {
            "image/png": "[encoded data removed]",
            "text/plain": [
              "<matplotlib.figure.Figure at 0x7f55a3436240>"
            ]
          },
          "metadata": {
            "tags": []
          }
        }
      ]
    },
    {
      "cell_type": "markdown",
      "metadata": {
        "id": "ixNuMw3_Hriq",
        "colab_type": "text"
      },
      "source": [
        "Comentario aparte: Las líneas comentadas del script anterior sirven para descargar la figura como un archivo. \n",
        "\n",
        "Recuerde que esto NO se está ejecutando en su computadora sino en alguna máquina virtual en google. \n",
        "\n",
        "Para descargar y obtener archivos repase: https://colab.research.google.com/notebooks/io.ipynb\n",
        "\n",
        "\n",
        "Usando abajo el comando ls de linux observamoremos la figura creada, si ejecutó el script anterior con las líneas descomentadas."
      ]
    },
    {
      "cell_type": "code",
      "metadata": {
        "id": "M8a_0wwoHgR8",
        "colab_type": "code",
        "colab": {}
      },
      "source": [
        "!ls"
      ],
      "execution_count": null,
      "outputs": []
    },
    {
      "cell_type": "markdown",
      "metadata": {
        "id": "UwjbMMgbFVr-",
        "colab_type": "text"
      },
      "source": [
        "### su respuesta aqui\n",
        "\n",
        "¿Qué diferencia hay entre print(N//2) y print(N/2)? Ejecute abajo un bloque de código y responda."
      ]
    },
    {
      "cell_type": "code",
      "metadata": {
        "id": "petg6IjxFMpb",
        "colab_type": "code",
        "colab": {}
      },
      "source": [
        "# escribir los print(..) y ejecutar"
      ],
      "execution_count": null,
      "outputs": []
    },
    {
      "cell_type": "markdown",
      "metadata": {
        "id": "7avIzsF4Il7K",
        "colab_type": "text"
      },
      "source": [
        "Para más detalles sobre implementaciones y operaciones relacionadas a FFT en python, mirar los ejemplos de https://docs.scipy.org/doc/scipy/reference/tutorial/fftpack.html\n"
      ]
    },
    {
      "cell_type": "markdown",
      "metadata": {
        "id": "zeSOq4lmIxUw",
        "colab_type": "text"
      },
      "source": [
        "### **Actividad**: Cree una señal compleja (al menos suma de cosenos y senos), grafíquela.\n",
        "calcule y grafile la FFT de esa señal."
      ]
    },
    {
      "cell_type": "code",
      "metadata": {
        "id": "aXq23SQSKRjM",
        "colab_type": "code",
        "colab": {}
      },
      "source": [
        ""
      ],
      "execution_count": null,
      "outputs": []
    }
  ]
}