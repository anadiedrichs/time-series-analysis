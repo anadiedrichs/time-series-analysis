{
  "nbformat": 4,
  "nbformat_minor": 0,
  "metadata": {
    "colab": {
      "name": "intro-time-series-metodos-matemáticos.ipynb",
      "provenance": [],
      "include_colab_link": true
    },
    "kernelspec": {
      "name": "python3",
      "display_name": "Python 3"
    }
  },
  "cells": [
    {
      "cell_type": "markdown",
      "metadata": {
        "id": "view-in-github",
        "colab_type": "text"
      },
      "source": [
        "<a href=\"https://colab.research.google.com/github/anadiedrichs/time-series-analysis/blob/master/intro_time_series_metodos_matem%C3%A1ticos.ipynb\" target=\"_parent\"><img src=\"https://colab.research.google.com/assets/colab-badge.svg\" alt=\"Open In Colab\"/></a>"
      ]
    },
    {
      "cell_type": "markdown",
      "metadata": {
        "id": "aT8xO1VdYPda",
        "colab_type": "text"
      },
      "source": [
        "# Actividad métodos matemáticos - Unidad análisis de series temporales - Teleinformática IoT - 2020\n",
        "\n",
        "**Docente: Ing. Ana Laura Diedrichs**\n",
        "\n",
        "Contacto por otros horarios de consulta o dudas: \n",
        "* Email: ana.diedrichs@frm.utn.edu.ar\n",
        "* Telegram  @anadiedrichs\n",
        "\n",
        "## Objetivos del laboratorio:\n",
        "\n",
        "* Analizar una serie temporal para un problema específico\n",
        "* Fomentar el trabajo en clase, discusión y aportes de soluciones entre los participantes\n",
        "* Ser una entrada en calor o introducción del uso del entorno colab.research.google.com y librerías Python como pandas\n",
        "\n",
        "## Pre-requisitos o pre-condiciones\n",
        "* Tener una cuenta google (gmail)\n",
        "* Tener instalado el navegador google chrome \n",
        "* Contar con conectividad a Internet\n",
        "\n",
        "## Entrega y uso del laboratorio\n",
        "\n",
        "**USO**\n",
        "\n",
        "* Antes que cualquier cosa, **cree una copia de este notebook: Click en *File*, luego *Save a Copy in Drive***\n",
        "* Renombre el archivo con el siguiente formato: APELLIDO_NOMBRE_LEGAJO_titulonotebook.ipynb \n",
        "Ejemplo: DIEDRICHS_ANA_99999_proyecto_forma_de_onda_2019.ipynb\n",
        "* Use el notebook, complete las actividades y consignas que se elija. \n",
        "* Este laboratorio es una actividad individual.\n",
        "* Se fomenta el intercambio de opiniones en clase y exposición.\n",
        "\n",
        "**ENTREGA**\n",
        "\n",
        "* Una vez finalizado el laboratorio, complete [el formulario de entrega](https://forms.gle/41zGpepnFmKpvfzo9) indicando\n",
        " * Apellido\n",
        " * Nombre\n",
        " * Nro Legajo\n",
        " * Carrera\n",
        " * Actividad (cuál laboratorio o actividad)\n",
        " * link de su notebook. El mismo se obtiene si realiza click en *Share* (esquina superior derecha) y luego en *Get shareable link* \n",
        " \n",
        " \n",
        " No se aceptarán otras formas de entrega distintas a la mencionada.\n",
        " \n",
        " Fecha límite de entrega: 10 de octubre de 2019."
      ]
    },
    {
      "cell_type": "markdown",
      "metadata": {
        "id": "yRgKqWmw_88i",
        "colab_type": "text"
      },
      "source": [
        "# Métodos matemáticos varios para señales (series temporales)\n",
        "\n",
        "## Introducción al uso de numpy y scipy"
      ]
    },
    {
      "cell_type": "code",
      "metadata": {
        "id": "LO1PZ4EfAKkc",
        "colab_type": "code",
        "colab": {}
      },
      "source": [
        "import numpy as np\n",
        "import pandas as pd\n",
        "import scipy\n",
        "from matplotlib import pyplot"
      ],
      "execution_count": 1,
      "outputs": []
    },
    {
      "cell_type": "markdown",
      "metadata": {
        "id": "wABzZaM_BvKR",
        "colab_type": "text"
      },
      "source": [
        "Constantes matemáticas como $\\pi$ y el número $e$ las extraemos de la librería numpy"
      ]
    },
    {
      "cell_type": "code",
      "metadata": {
        "id": "abJidnNJB4O5",
        "colab_type": "code",
        "colab": {
          "base_uri": "https://localhost:8080/",
          "height": 51
        },
        "outputId": "ea9d85d2-4199-4863-c87f-a284a2c4bc3d"
      },
      "source": [
        "print(np.pi)\n",
        "print(np.e)"
      ],
      "execution_count": 2,
      "outputs": [
        {
          "output_type": "stream",
          "text": [
            "3.141592653589793\n",
            "2.718281828459045\n"
          ],
          "name": "stdout"
        }
      ]
    },
    {
      "cell_type": "markdown",
      "metadata": {
        "id": "CM6sBF8ECAat",
        "colab_type": "text"
      },
      "source": [
        "## Integrales\n",
        "\n",
        "\n"
      ]
    },
    {
      "cell_type": "markdown",
      "metadata": {
        "id": "WylR3Qp6Cq1_",
        "colab_type": "text"
      },
      "source": [
        "Ejemplo usando el método del trapecio, Wikipedia page: http://en.wikipedia.org/wiki/Trapezoidal_rule"
      ]
    },
    {
      "cell_type": "markdown",
      "metadata": {
        "id": "H12expaZCMlI",
        "colab_type": "text"
      },
      "source": [
        "¿Qué realiza el siguiente bloque de código? Reemplace este texto explicando/comentando"
      ]
    },
    {
      "cell_type": "markdown",
      "metadata": {
        "id": "0fG4sJ3p7krj",
        "colab_type": "text"
      },
      "source": [
        "Puede buscar la ayuda de las funciones usando **help(nombreDeLaFuncion)** en un bloque de código"
      ]
    },
    {
      "cell_type": "code",
      "metadata": {
        "id": "4has-Ix17jvQ",
        "colab_type": "code",
        "colab": {
          "base_uri": "https://localhost:8080/",
          "height": 1000
        },
        "outputId": "6bf5fb3c-6132-45da-c095-5a5af7238661"
      },
      "source": [
        "help(np.linspace)"
      ],
      "execution_count": 3,
      "outputs": [
        {
          "output_type": "stream",
          "text": [
            "Help on function linspace in module numpy:\n",
            "\n",
            "linspace(start, stop, num=50, endpoint=True, retstep=False, dtype=None, axis=0)\n",
            "    Return evenly spaced numbers over a specified interval.\n",
            "    \n",
            "    Returns `num` evenly spaced samples, calculated over the\n",
            "    interval [`start`, `stop`].\n",
            "    \n",
            "    The endpoint of the interval can optionally be excluded.\n",
            "    \n",
            "    .. versionchanged:: 1.16.0\n",
            "        Non-scalar `start` and `stop` are now supported.\n",
            "    \n",
            "    Parameters\n",
            "    ----------\n",
            "    start : array_like\n",
            "        The starting value of the sequence.\n",
            "    stop : array_like\n",
            "        The end value of the sequence, unless `endpoint` is set to False.\n",
            "        In that case, the sequence consists of all but the last of ``num + 1``\n",
            "        evenly spaced samples, so that `stop` is excluded.  Note that the step\n",
            "        size changes when `endpoint` is False.\n",
            "    num : int, optional\n",
            "        Number of samples to generate. Default is 50. Must be non-negative.\n",
            "    endpoint : bool, optional\n",
            "        If True, `stop` is the last sample. Otherwise, it is not included.\n",
            "        Default is True.\n",
            "    retstep : bool, optional\n",
            "        If True, return (`samples`, `step`), where `step` is the spacing\n",
            "        between samples.\n",
            "    dtype : dtype, optional\n",
            "        The type of the output array.  If `dtype` is not given, infer the data\n",
            "        type from the other input arguments.\n",
            "    \n",
            "        .. versionadded:: 1.9.0\n",
            "    \n",
            "    axis : int, optional\n",
            "        The axis in the result to store the samples.  Relevant only if start\n",
            "        or stop are array-like.  By default (0), the samples will be along a\n",
            "        new axis inserted at the beginning. Use -1 to get an axis at the end.\n",
            "    \n",
            "        .. versionadded:: 1.16.0\n",
            "    \n",
            "    Returns\n",
            "    -------\n",
            "    samples : ndarray\n",
            "        There are `num` equally spaced samples in the closed interval\n",
            "        ``[start, stop]`` or the half-open interval ``[start, stop)``\n",
            "        (depending on whether `endpoint` is True or False).\n",
            "    step : float, optional\n",
            "        Only returned if `retstep` is True\n",
            "    \n",
            "        Size of spacing between samples.\n",
            "    \n",
            "    \n",
            "    See Also\n",
            "    --------\n",
            "    arange : Similar to `linspace`, but uses a step size (instead of the\n",
            "             number of samples).\n",
            "    geomspace : Similar to `linspace`, but with numbers spaced evenly on a log\n",
            "                scale (a geometric progression).\n",
            "    logspace : Similar to `geomspace`, but with the end points specified as\n",
            "               logarithms.\n",
            "    \n",
            "    Examples\n",
            "    --------\n",
            "    >>> np.linspace(2.0, 3.0, num=5)\n",
            "    array([2.  , 2.25, 2.5 , 2.75, 3.  ])\n",
            "    >>> np.linspace(2.0, 3.0, num=5, endpoint=False)\n",
            "    array([2. ,  2.2,  2.4,  2.6,  2.8])\n",
            "    >>> np.linspace(2.0, 3.0, num=5, retstep=True)\n",
            "    (array([2.  ,  2.25,  2.5 ,  2.75,  3.  ]), 0.25)\n",
            "    \n",
            "    Graphical illustration:\n",
            "    \n",
            "    >>> import matplotlib.pyplot as plt\n",
            "    >>> N = 8\n",
            "    >>> y = np.zeros(N)\n",
            "    >>> x1 = np.linspace(0, 10, N, endpoint=True)\n",
            "    >>> x2 = np.linspace(0, 10, N, endpoint=False)\n",
            "    >>> plt.plot(x1, y, 'o')\n",
            "    [<matplotlib.lines.Line2D object at 0x...>]\n",
            "    >>> plt.plot(x2, y + 0.5, 'o')\n",
            "    [<matplotlib.lines.Line2D object at 0x...>]\n",
            "    >>> plt.ylim([-0.5, 1])\n",
            "    (-0.5, 1)\n",
            "    >>> plt.show()\n",
            "\n"
          ],
          "name": "stdout"
        }
      ]
    },
    {
      "cell_type": "code",
      "metadata": {
        "id": "5vCZNZlP-km_",
        "colab_type": "code",
        "colab": {
          "base_uri": "https://localhost:8080/",
          "height": 51
        },
        "outputId": "979712e2-2f01-4544-bb39-39f927164213"
      },
      "source": [
        "import numpy as np\n",
        "x = np.linspace(0, 2*np.pi, 10)\n",
        "y = np.sin(x)\n",
        "print(x)"
      ],
      "execution_count": 4,
      "outputs": [
        {
          "output_type": "stream",
          "text": [
            "[0.         0.6981317  1.3962634  2.0943951  2.7925268  3.4906585\n",
            " 4.1887902  4.88692191 5.58505361 6.28318531]\n"
          ],
          "name": "stdout"
        }
      ]
    },
    {
      "cell_type": "code",
      "metadata": {
        "id": "4KJAonbI8Yld",
        "colab_type": "code",
        "colab": {
          "base_uri": "https://localhost:8080/",
          "height": 68
        },
        "outputId": "f69019b2-769e-4098-c9f3-f67199ff53cf"
      },
      "source": [
        "print(y)"
      ],
      "execution_count": 5,
      "outputs": [
        {
          "output_type": "stream",
          "text": [
            "[ 0.00000000e+00  6.42787610e-01  9.84807753e-01  8.66025404e-01\n",
            "  3.42020143e-01 -3.42020143e-01 -8.66025404e-01 -9.84807753e-01\n",
            " -6.42787610e-01 -2.44929360e-16]\n"
          ],
          "name": "stdout"
        }
      ]
    },
    {
      "cell_type": "code",
      "metadata": {
        "id": "94ogr2358Tap",
        "colab_type": "code",
        "colab": {
          "base_uri": "https://localhost:8080/",
          "height": 265
        },
        "outputId": "5e737969-568f-410a-8906-87e65ee42eae"
      },
      "source": [
        "\n",
        "pyplot.plot(x,y)\n",
        "pyplot.show()"
      ],
      "execution_count": 6,
      "outputs": [
        {
          "output_type": "display_data",
          "data": {
            "image/png": "[encoded data removed]",
            "text/plain": [
              "<Figure size 432x288 with 1 Axes>"
            ]
          },
          "metadata": {
            "tags": [],
            "needs_background": "light"
          }
        }
      ]
    },
    {
      "cell_type": "code",
      "metadata": {
        "id": "Byihb7BMAPU5",
        "colab_type": "code",
        "colab": {
          "base_uri": "https://localhost:8080/",
          "height": 34
        },
        "outputId": "10363d4d-0b61-4e08-8cfb-36c7da6575ba"
      },
      "source": [
        "# use numpy's built in trapezoid-rule integration tool\n",
        "dy = np.trapz(y, x)\n",
        "dy"
      ],
      "execution_count": 7,
      "outputs": [
        {
          "output_type": "execute_result",
          "data": {
            "text/plain": [
              "-1.3877787807814457e-16"
            ]
          },
          "metadata": {
            "tags": []
          },
          "execution_count": 7
        }
      ]
    },
    {
      "cell_type": "markdown",
      "metadata": {
        "id": "AvqHLXNxCcWO",
        "colab_type": "text"
      },
      "source": [
        "Existen varios métodos de integración numérica. La librería Scipy contiene varios de ellos\n",
        "https://docs.scipy.org/doc/scipy/reference/tutorial/integrate.html\n"
      ]
    },
    {
      "cell_type": "markdown",
      "metadata": {
        "id": "q7MudVD8GGq1",
        "colab_type": "text"
      },
      "source": [
        "Los notebooks también nos permiten agregar notaciones de Latex que sirven para escribir de forma más presentable notación matemática, como abajo se lista la función que graficamos"
      ]
    },
    {
      "cell_type": "markdown",
      "metadata": {
        "id": "RkEe_C_dFoFc",
        "colab_type": "text"
      },
      "source": [
        "\n",
        "\n",
        "$f(x) = \\sin(50*2\\pi x)+ 0.5 \\sin(80*2\\pi x) $"
      ]
    },
    {
      "cell_type": "code",
      "metadata": {
        "id": "S8GlwvGT8odr",
        "colab_type": "code",
        "colab": {
          "base_uri": "https://localhost:8080/",
          "height": 265
        },
        "outputId": "b9aeb792-d6a8-4260-9f46-dcf4333ed2e4"
      },
      "source": [
        "\n",
        "N = 600 # número de puntos de muestreo\n",
        "T = 1.0 / 800.0 # sample spacing\n",
        "x = np.linspace(0.0, N*T, N)\n",
        "y = np.sin(50.0 * 2.0*np.pi*x) + 0.5*np.sin(80.0 * 2.0*np.pi*x) # según la fórmula de arriba\n",
        "pyplot.plot(x, y)\n",
        "pyplot.grid()\n",
        "pyplot.show()"
      ],
      "execution_count": 8,
      "outputs": [
        {
          "output_type": "display_data",
          "data": {
            "image/png": "[encoded data removed]",
            "text/plain": [
              "<Figure size 432x288 with 1 Axes>"
            ]
          },
          "metadata": {
            "tags": [],
            "needs_background": "light"
          }
        }
      ]
    },
    {
      "cell_type": "markdown",
      "metadata": {
        "id": "Cmom8kSfEEzE",
        "colab_type": "text"
      },
      "source": [
        "## FFT Fast Fourier Transform"
      ]
    },
    {
      "cell_type": "markdown",
      "metadata": {
        "id": "aKf_hxOyEJDN",
        "colab_type": "text"
      },
      "source": [
        "### su respuesta aqui\n",
        "¿Qué realiza el siguiente código? Escriba aqui detalle"
      ]
    },
    {
      "cell_type": "code",
      "metadata": {
        "id": "V6PgtLutE215",
        "colab_type": "code",
        "colab": {
          "base_uri": "https://localhost:8080/",
          "height": 279
        },
        "outputId": "4f5b9384-6c88-4209-fa12-39c46ae8668b"
      },
      "source": [
        "N = 600 # número de puntos de muestreo\n",
        "T = 1.0 / 800.0 # sample spacing\n",
        "x = np.linspace(0.0, N*T, N)\n",
        "y = np.sin(50.0 * 2.0*np.pi*x) + 0.5*np.sin(80.0 * 2.0*np.pi*x) \n",
        "\n",
        "yf = np.fft.fft(y)\n",
        "xf = np.linspace(0.0, 1.0/(2.0*T), N//2)\n",
        "import matplotlib.pyplot as plt\n",
        "\n",
        "# fig = plt.figure()\n",
        "\n",
        "plt.xlabel('xlabel')  # etiquete correctamente el eje x\n",
        "plt.ylabel('ylabel') # etiquete correctamente el eje y\n",
        "plt.plot(xf, 2.0/N * np.abs(yf[0:N//2]))\n",
        "plt.grid()\n",
        "plt.show()\n",
        "\n",
        "# fig.savefig('test.jpg')\n"
      ],
      "execution_count": 11,
      "outputs": [
        {
          "output_type": "display_data",
          "data": {
            "image/png": "[encoded data removed]",
            "text/plain": [
              "<Figure size 432x288 with 1 Axes>"
            ]
          },
          "metadata": {
            "tags": [],
            "needs_background": "light"
          }
        }
      ]
    },
    {
      "cell_type": "markdown",
      "metadata": {
        "id": "ixNuMw3_Hriq",
        "colab_type": "text"
      },
      "source": [
        "Comentario aparte: Las líneas comentadas del script anterior sirven para descargar la figura como un archivo. \n",
        "\n",
        "Recuerde que esto NO se está ejecutando en su computadora sino en alguna máquina virtual en google. \n",
        "\n",
        "Para descargar y obtener archivos repase: https://colab.research.google.com/notebooks/io.ipynb\n",
        "\n",
        "\n",
        "Usando abajo el comando ls de linux observamoremos la figura creada, si ejecutó el script anterior con las líneas descomentadas."
      ]
    },
    {
      "cell_type": "code",
      "metadata": {
        "id": "M8a_0wwoHgR8",
        "colab_type": "code",
        "colab": {}
      },
      "source": [
        "!ls"
      ],
      "execution_count": null,
      "outputs": []
    },
    {
      "cell_type": "markdown",
      "metadata": {
        "id": "UwjbMMgbFVr-",
        "colab_type": "text"
      },
      "source": [
        "### su respuesta aqui\n",
        "\n",
        "¿Qué diferencia hay entre print(N//2) y print(N/2)? Ejecute abajo un bloque de código y responda."
      ]
    },
    {
      "cell_type": "code",
      "metadata": {
        "id": "petg6IjxFMpb",
        "colab_type": "code",
        "colab": {}
      },
      "source": [
        "# escribir los print(..) y ejecutar"
      ],
      "execution_count": null,
      "outputs": []
    },
    {
      "cell_type": "markdown",
      "metadata": {
        "id": "7avIzsF4Il7K",
        "colab_type": "text"
      },
      "source": [
        "Para más detalles sobre implementaciones y operaciones relacionadas a FFT en python, mirar los ejemplos de https://docs.scipy.org/doc/scipy/reference/tutorial/fftpack.html\n"
      ]
    },
    {
      "cell_type": "markdown",
      "metadata": {
        "id": "zeSOq4lmIxUw",
        "colab_type": "text"
      },
      "source": [
        "### **Actividad**: Cree una señal compleja (al menos suma de cosenos y senos), grafíquela.\n",
        "calcule y grafile la FFT de esa señal."
      ]
    },
    {
      "cell_type": "code",
      "metadata": {
        "id": "aXq23SQSKRjM",
        "colab_type": "code",
        "colab": {}
      },
      "source": [
        ""
      ],
      "execution_count": null,
      "outputs": []
    }
  ]
}