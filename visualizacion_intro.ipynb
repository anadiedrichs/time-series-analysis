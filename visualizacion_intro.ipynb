{
  "nbformat": 4,
  "nbformat_minor": 0,
  "metadata": {
    "colab": {
      "name": "visualizacion-intro.ipynb",
      "provenance": [],
      "private_outputs": true,
      "toc_visible": true,
      "include_colab_link": true
    },
    "kernelspec": {
      "name": "python3",
      "display_name": "Python 3"
    }
  },
  "cells": [
    {
      "cell_type": "markdown",
      "metadata": {
        "id": "view-in-github",
        "colab_type": "text"
      },
      "source": [
        "<a href=\"https://colab.research.google.com/github/anadiedrichs/time-series-analysis/blob/master/visualizacion_intro.ipynb\" target=\"_parent\"><img src=\"https://colab.research.google.com/assets/colab-badge.svg\" alt=\"Open In Colab\"/></a>"
      ]
    },
    {
      "cell_type": "markdown",
      "metadata": {
        "id": "rign-AyFV-BE",
        "colab_type": "text"
      },
      "source": [
        "# Actividad visualización - Unidad análisis de series temporales - Teleinformática IoT - 2019\n",
        "\n",
        "**Docente: Ing. Ana Laura Diedrichs**\n",
        "\n",
        "Consultas: lunes 19 hs en sala consulta de sistemas.\n",
        "\n",
        "Contacto por otros horarios de consulta o dudas: \n",
        "* Email: ana.diedrichs@frm.utn.edu.ar\n",
        "* Telegram  @anadiedrichs\n",
        "\n",
        "## Objetivos del laboratorio:\n",
        "\n",
        "* Analizar una serie temporal para un problema específico\n",
        "* Fomentar el trabajo en clase, discusión y aportes de soluciones entre los participantes\n",
        "* Ser una entrada en calor o introducción del uso del entorno colab.research.google.com y librerías Python como pandas\n",
        "\n",
        "## Pre-requisitos o pre-condiciones\n",
        "* Tener una cuenta google (gmail)\n",
        "* Tener instalado el navegador google chrome \n",
        "* Contar con conectividad a Internet\n",
        "\n",
        "## Entrega y uso del laboratorio\n",
        "\n",
        "**USO**\n",
        "\n",
        "* Antes que cualquier cosa, **cree una copia de este notebook: Click en *File*, luego *Save a Copy in Drive***\n",
        "* Renombre el archivo con el siguiente formato: APELLIDO_NOMBRE_LEGAJO_titulonotebook.ipynb \n",
        "Ejemplo: DIEDRICHS_ANA_99999_proyecto_forma_de_onda_2019.ipynb\n",
        "* Use el notebook, complete las actividades y consignas que se elija. \n",
        "* Este laboratorio es una actividad individual.\n",
        "* Se fomenta el intercambio de opiniones en clase y exposición.\n",
        "\n",
        "**ENTREGA**\n",
        "\n",
        "* Una vez finalizado el laboratorio, complete [el formulario de entrega](https://forms.gle/zUnbfN79YEEeJFz7A) indicando\n",
        " * Apellido\n",
        " * Nombre\n",
        " * Nro Legajo\n",
        " * Carrera\n",
        " * Actividad (cuál laboratorio o actividad)\n",
        " * link de su notebook. El mismo se obtiene si realiza click en *Share* (esquina superior derecha) y luego en *Get shareable link* \n",
        " \n",
        " \n",
        " No se aceptarán otras formas de entrega distintas a la mencionada.\n",
        " \n",
        " Fecha límite de entrega: 17 de octubre de 2019."
      ]
    },
    {
      "cell_type": "markdown",
      "metadata": {
        "id": "t5-92OkFxei0",
        "colab_type": "text"
      },
      "source": [
        "# Visualización e interpretación\n",
        "\n",
        "\n",
        "## Cargar el archivo \n",
        "\n",
        "Origen del dataset \n",
        "\n"
      ]
    },
    {
      "cell_type": "code",
      "metadata": {
        "id": "ztPUhUL-xn4J",
        "colab_type": "code",
        "colab": {}
      },
      "source": [
        "from pandas import read_csv\n",
        "series = read_csv('https://raw.githubusercontent.com/jbrownlee/Datasets/master/daily-min-temperatures.csv', header=0, index_col=0,parse_dates=[0],squeeze=True)\n",
        "print(series.head(10))\n"
      ],
      "execution_count": 0,
      "outputs": []
    },
    {
      "cell_type": "markdown",
      "metadata": {
        "id": "yG74rHFol8G-",
        "colab_type": "text"
      },
      "source": [
        "## Visualización de los datos"
      ]
    },
    {
      "cell_type": "code",
      "metadata": {
        "id": "6XvXdmfrnnhB",
        "colab_type": "code",
        "colab": {}
      },
      "source": [
        "type(series)"
      ],
      "execution_count": 0,
      "outputs": []
    },
    {
      "cell_type": "code",
      "metadata": {
        "id": "bZ7HddFhmyrd",
        "colab_type": "code",
        "colab": {}
      },
      "source": [
        "from matplotlib import pyplot\n",
        "from pandas import Series\n",
        "\n",
        "series.plot()\n",
        "pyplot.show()"
      ],
      "execution_count": 0,
      "outputs": []
    },
    {
      "cell_type": "code",
      "metadata": {
        "id": "ExncFwCTq-_L",
        "colab_type": "code",
        "colab": {}
      },
      "source": [
        "series.plot(style='k.')\n",
        "pyplot.show()"
      ],
      "execution_count": 0,
      "outputs": []
    },
    {
      "cell_type": "markdown",
      "metadata": {
        "id": "Rndsf6I3rycc",
        "colab_type": "text"
      },
      "source": [
        "####¿ Qué muestran los siguientes plots ?\n",
        "\n",
        "Corra los siguientes bloques de código. Debajo de cada uno comente lo que visualiza.\n",
        "\n",
        "Busque sobre las librerías y los métodos. \n",
        "\n",
        "Si lo prefiere, puede descomponer la celda de código en celdas más pequeñas"
      ]
    },
    {
      "cell_type": "markdown",
      "metadata": {
        "id": "GEmu6WVdr_0s",
        "colab_type": "text"
      },
      "source": [
        ""
      ]
    },
    {
      "cell_type": "code",
      "metadata": {
        "id": "O6WD02W_rOFP",
        "colab_type": "code",
        "colab": {}
      },
      "source": [
        "from pandas import Series\n",
        "from pandas import DataFrame\n",
        "from pandas import TimeGrouper\n",
        "from matplotlib import pyplot\n",
        "groups = series.groupby(TimeGrouper('A'))\n",
        "years = DataFrame()\n",
        "for name, group in groups:\n",
        "\tyears[name.year] = group.values\n",
        "years.plot(subplots=True, legend=False)\n",
        "pyplot.show()"
      ],
      "execution_count": 0,
      "outputs": []
    },
    {
      "cell_type": "markdown",
      "metadata": {
        "id": "wAkXK0hxsBT9",
        "colab_type": "text"
      },
      "source": [
        "¿Qué tipo de gráfico es el siguiente?\n",
        "\n",
        "¿Qué es lo que muestra?\n",
        "\n"
      ]
    },
    {
      "cell_type": "code",
      "metadata": {
        "id": "tFuvqFImruVq",
        "colab_type": "code",
        "colab": {}
      },
      "source": [
        "from pandas import Series\n",
        "from matplotlib import pyplot\n",
        "series.hist()\n",
        "pyplot.show()"
      ],
      "execution_count": 0,
      "outputs": []
    },
    {
      "cell_type": "markdown",
      "metadata": {
        "id": "Zp9YWqBtsQL5",
        "colab_type": "text"
      },
      "source": [
        "¿Qué es lo que muestra el siguiente plot?"
      ]
    },
    {
      "cell_type": "code",
      "metadata": {
        "id": "-xBno4kBsQaP",
        "colab_type": "code",
        "colab": {}
      },
      "source": [
        "from pandas import Series\n",
        "from matplotlib import pyplot\n",
        "series.plot(kind='kde')\n",
        "pyplot.show()"
      ],
      "execution_count": 0,
      "outputs": []
    },
    {
      "cell_type": "markdown",
      "metadata": {
        "id": "kmsCU1asuVvQ",
        "colab_type": "text"
      },
      "source": [
        ""
      ]
    },
    {
      "cell_type": "code",
      "metadata": {
        "id": "k1IWbi_FukR6",
        "colab_type": "code",
        "colab": {}
      },
      "source": [
        "from pandas import Series\n",
        "from pandas import DataFrame\n",
        "from pandas import TimeGrouper\n",
        "from matplotlib import pyplot\n",
        "groups = series.groupby(TimeGrouper('A'))\n",
        "years = DataFrame()\n",
        "for name, group in groups:\n",
        "\tyears[name.year] = group.values\n",
        "years.boxplot()\n",
        "pyplot.show()"
      ],
      "execution_count": 0,
      "outputs": []
    },
    {
      "cell_type": "code",
      "metadata": {
        "id": "VemCsWKHun6R",
        "colab_type": "code",
        "colab": {}
      },
      "source": [
        "from pandas import Series\n",
        "from pandas import DataFrame\n",
        "from pandas import TimeGrouper\n",
        "from matplotlib import pyplot\n",
        "from pandas import concat\n",
        "one_year = series['1990']\n",
        "groups = one_year.groupby(TimeGrouper('M'))\n",
        "months = concat([DataFrame(x[1].values) for x in groups], axis=1)\n",
        "months = DataFrame(months)\n",
        "months.columns = range(1,13)\n",
        "months.boxplot()\n",
        "pyplot.show()"
      ],
      "execution_count": 0,
      "outputs": []
    },
    {
      "cell_type": "code",
      "metadata": {
        "id": "9b27BDd0vvtz",
        "colab_type": "code",
        "colab": {}
      },
      "source": [
        "from pandas import Series\n",
        "from pandas import DataFrame\n",
        "from pandas import TimeGrouper\n",
        "from matplotlib import pyplot\n",
        "pyplot.style.use('ggplot')\n",
        "groups = series.groupby(TimeGrouper('A'))\n",
        "years = DataFrame()\n",
        "for name, group in groups:\n",
        "\tyears[name.year] = group.values\n",
        "years = years.T\n",
        "pyplot.matshow(years, interpolation=None, aspect='auto')\n",
        "pyplot.show()"
      ],
      "execution_count": 0,
      "outputs": []
    },
    {
      "cell_type": "code",
      "metadata": {
        "id": "nTdA5RGIwFTD",
        "colab_type": "code",
        "colab": {}
      },
      "source": [
        "from pandas import Series\n",
        "from pandas import DataFrame\n",
        "from pandas import TimeGrouper\n",
        "from matplotlib import pyplot\n",
        "from pandas import concat\n",
        "one_year = series['1990']\n",
        "groups = one_year.groupby(TimeGrouper('M'))\n",
        "months = concat([DataFrame(x[1].values) for x in groups], axis=1)\n",
        "months = DataFrame(months)\n",
        "months.columns = range(1,13)\n",
        "pyplot.matshow(months, interpolation=None, aspect='auto')\n",
        "pyplot.show()"
      ],
      "execution_count": 0,
      "outputs": []
    },
    {
      "cell_type": "markdown",
      "metadata": {
        "id": "UH-HRAYFWFeB",
        "colab_type": "text"
      },
      "source": [
        "# [Actividad] Análisis del dataset\n",
        "\n",
        "Dada la serie temporal que estuvo graficando en los gráficos anteriores, reflexione, ejecute el código que sea necesario y responda\n",
        "\n",
        "**¿Cuándo se registró la temperatura mínima más extrema?** El valor máximo histórico y el menor"
      ]
    },
    {
      "cell_type": "code",
      "metadata": {
        "id": "xK5wxZpwWkCa",
        "colab_type": "code",
        "colab": {}
      },
      "source": [
        ""
      ],
      "execution_count": 0,
      "outputs": []
    },
    {
      "cell_type": "markdown",
      "metadata": {
        "id": "kPxwWDAlWkh5",
        "colab_type": "text"
      },
      "source": [
        "SU RESPUESTA AQUI"
      ]
    },
    {
      "cell_type": "markdown",
      "metadata": {
        "id": "a8OCwGAXWo8X",
        "colab_type": "text"
      },
      "source": [
        "**En promedio, ¿cuáles son los meses que presenta menos temperaturas mínimas y cuáles mayores? ¿por qué?**"
      ]
    },
    {
      "cell_type": "code",
      "metadata": {
        "id": "jcvB13YCW1GH",
        "colab_type": "code",
        "colab": {}
      },
      "source": [
        ""
      ],
      "execution_count": 0,
      "outputs": []
    },
    {
      "cell_type": "markdown",
      "metadata": {
        "id": "C9Dj_zWLWNWR",
        "colab_type": "text"
      },
      "source": [
        "SU RESPUESTA AQUI"
      ]
    },
    {
      "cell_type": "markdown",
      "metadata": {
        "id": "QpPBeiMmuDz1",
        "colab_type": "text"
      },
      "source": [
        "## [Actividad] Time series o series temporales - \n",
        "\n",
        "Leyendo la siguiente documentación, genere una series de tiempo con valores aleatorios diarios. (al menos tres años o 5000 valores)\n",
        "\n",
        "Los valores aleatorios los puede generar usando un generador de números uniforme o normal (gaussiano)\n",
        "\n",
        "\n",
        "http://pandas.pydata.org/pandas-docs/stable/timeseries.html#anchored-offsets\n",
        "\n",
        "\n",
        "Grafique en un gráfico lineal (valor a través del tiempo) y un histograma.\n",
        "\n",
        "En diagramas de caja identifique media y mediana.\n"
      ]
    },
    {
      "cell_type": "code",
      "metadata": {
        "id": "CtnEv47HNGyr",
        "colab_type": "code",
        "colab": {}
      },
      "source": [
        ""
      ],
      "execution_count": 0,
      "outputs": []
    }
  ]
}