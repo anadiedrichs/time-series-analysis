{
  "nbformat": 4,
  "nbformat_minor": 0,
  "metadata": {
    "colab": {
      "name": "visualizacion-intro.ipynb",
      "provenance": [],
      "private_outputs": true,
      "toc_visible": true,
      "include_colab_link": true
    },
    "kernelspec": {
      "name": "python3",
      "display_name": "Python 3"
    }
  },
  "cells": [
    {
      "cell_type": "markdown",
      "metadata": {
        "id": "view-in-github",
        "colab_type": "text"
      },
      "source": [
        "<a href=\"https://colab.research.google.com/github/anadiedrichs/time-series-analysis/blob/master/visualizacion_intro.ipynb\" target=\"_parent\"><img src=\"https://colab.research.google.com/assets/colab-badge.svg\" alt=\"Open In Colab\"/></a>"
      ]
    },
    {
      "cell_type": "markdown",
      "metadata": {
        "id": "t5-92OkFxei0",
        "colab_type": "text"
      },
      "source": [
        "# Visualización e interpretación\n",
        "\n",
        "\n",
        "## Cargar el archivo \n",
        "\n",
        "Origen del dataset \n",
        "\n"
      ]
    },
    {
      "cell_type": "code",
      "metadata": {
        "id": "ztPUhUL-xn4J",
        "colab_type": "code",
        "colab": {}
      },
      "source": [
        "from pandas import read_csv\n",
        "series = read_csv('https://raw.githubusercontent.com/jbrownlee/Datasets/master/daily-min-temperatures.csv', header=0, index_col=0,parse_dates=[0],squeeze=True)\n",
        "print(series.head(10))\n"
      ],
      "execution_count": 0,
      "outputs": []
    },
    {
      "cell_type": "markdown",
      "metadata": {
        "id": "yG74rHFol8G-",
        "colab_type": "text"
      },
      "source": [
        "## Visualización de los datos"
      ]
    },
    {
      "cell_type": "code",
      "metadata": {
        "id": "6XvXdmfrnnhB",
        "colab_type": "code",
        "colab": {}
      },
      "source": [
        "type(series)"
      ],
      "execution_count": 0,
      "outputs": []
    },
    {
      "cell_type": "code",
      "metadata": {
        "id": "bZ7HddFhmyrd",
        "colab_type": "code",
        "colab": {}
      },
      "source": [
        "from matplotlib import pyplot\n",
        "from pandas import Series\n",
        "\n",
        "series.plot()\n",
        "pyplot.show()"
      ],
      "execution_count": 0,
      "outputs": []
    },
    {
      "cell_type": "code",
      "metadata": {
        "id": "ExncFwCTq-_L",
        "colab_type": "code",
        "colab": {}
      },
      "source": [
        "series.plot(style='k.')\n",
        "pyplot.show()"
      ],
      "execution_count": 0,
      "outputs": []
    },
    {
      "cell_type": "markdown",
      "metadata": {
        "id": "Rndsf6I3rycc",
        "colab_type": "text"
      },
      "source": [
        "####¿ Qué muestran los siguientes plots ?\n",
        "\n",
        "Corra los siguientes bloques de código. Debajo de cada uno comente lo que visualiza.\n",
        "\n",
        "Busque sobre las librerías y los métodos. \n",
        "\n",
        "Si lo prefiere, puede descomponer la celda de código en celdas más pequeñas"
      ]
    },
    {
      "cell_type": "markdown",
      "metadata": {
        "id": "GEmu6WVdr_0s",
        "colab_type": "text"
      },
      "source": [
        ""
      ]
    },
    {
      "cell_type": "code",
      "metadata": {
        "id": "O6WD02W_rOFP",
        "colab_type": "code",
        "colab": {}
      },
      "source": [
        "from pandas import Series\n",
        "from pandas import DataFrame\n",
        "from pandas import TimeGrouper\n",
        "from matplotlib import pyplot\n",
        "groups = series.groupby(TimeGrouper('A'))\n",
        "years = DataFrame()\n",
        "for name, group in groups:\n",
        "\tyears[name.year] = group.values\n",
        "years.plot(subplots=True, legend=False)\n",
        "pyplot.show()"
      ],
      "execution_count": 0,
      "outputs": []
    },
    {
      "cell_type": "markdown",
      "metadata": {
        "id": "wAkXK0hxsBT9",
        "colab_type": "text"
      },
      "source": [
        "¿Qué tipo de gráfico es el siguiente?\n",
        "\n",
        "¿Qué es lo que muestra?\n",
        "\n"
      ]
    },
    {
      "cell_type": "code",
      "metadata": {
        "id": "tFuvqFImruVq",
        "colab_type": "code",
        "colab": {}
      },
      "source": [
        "from pandas import Series\n",
        "from matplotlib import pyplot\n",
        "series.hist()\n",
        "pyplot.show()"
      ],
      "execution_count": 0,
      "outputs": []
    },
    {
      "cell_type": "markdown",
      "metadata": {
        "id": "Zp9YWqBtsQL5",
        "colab_type": "text"
      },
      "source": [
        "¿Qué es lo que muestra el siguiente plot?"
      ]
    },
    {
      "cell_type": "code",
      "metadata": {
        "id": "-xBno4kBsQaP",
        "colab_type": "code",
        "colab": {}
      },
      "source": [
        "from pandas import Series\n",
        "from matplotlib import pyplot\n",
        "series.plot(kind='kde')\n",
        "pyplot.show()"
      ],
      "execution_count": 0,
      "outputs": []
    },
    {
      "cell_type": "markdown",
      "metadata": {
        "id": "kmsCU1asuVvQ",
        "colab_type": "text"
      },
      "source": [
        ""
      ]
    },
    {
      "cell_type": "code",
      "metadata": {
        "id": "k1IWbi_FukR6",
        "colab_type": "code",
        "colab": {}
      },
      "source": [
        "from pandas import Series\n",
        "from pandas import DataFrame\n",
        "from pandas import TimeGrouper\n",
        "from matplotlib import pyplot\n",
        "groups = series.groupby(TimeGrouper('A'))\n",
        "years = DataFrame()\n",
        "for name, group in groups:\n",
        "\tyears[name.year] = group.values\n",
        "years.boxplot()\n",
        "pyplot.show()"
      ],
      "execution_count": 0,
      "outputs": []
    },
    {
      "cell_type": "code",
      "metadata": {
        "id": "VemCsWKHun6R",
        "colab_type": "code",
        "colab": {}
      },
      "source": [
        "from pandas import Series\n",
        "from pandas import DataFrame\n",
        "from pandas import TimeGrouper\n",
        "from matplotlib import pyplot\n",
        "from pandas import concat\n",
        "one_year = series['1990']\n",
        "groups = one_year.groupby(TimeGrouper('M'))\n",
        "months = concat([DataFrame(x[1].values) for x in groups], axis=1)\n",
        "months = DataFrame(months)\n",
        "months.columns = range(1,13)\n",
        "months.boxplot()\n",
        "pyplot.show()"
      ],
      "execution_count": 0,
      "outputs": []
    },
    {
      "cell_type": "code",
      "metadata": {
        "id": "9b27BDd0vvtz",
        "colab_type": "code",
        "colab": {}
      },
      "source": [
        "from pandas import Series\n",
        "from pandas import DataFrame\n",
        "from pandas import TimeGrouper\n",
        "from matplotlib import pyplot\n",
        "pyplot.style.use('ggplot')\n",
        "groups = series.groupby(TimeGrouper('A'))\n",
        "years = DataFrame()\n",
        "for name, group in groups:\n",
        "\tyears[name.year] = group.values\n",
        "years = years.T\n",
        "pyplot.matshow(years, interpolation=None, aspect='auto')\n",
        "pyplot.show()"
      ],
      "execution_count": 0,
      "outputs": []
    },
    {
      "cell_type": "code",
      "metadata": {
        "id": "nTdA5RGIwFTD",
        "colab_type": "code",
        "colab": {}
      },
      "source": [
        "from pandas import Series\n",
        "from pandas import DataFrame\n",
        "from pandas import TimeGrouper\n",
        "from matplotlib import pyplot\n",
        "from pandas import concat\n",
        "one_year = series['1990']\n",
        "groups = one_year.groupby(TimeGrouper('M'))\n",
        "months = concat([DataFrame(x[1].values) for x in groups], axis=1)\n",
        "months = DataFrame(months)\n",
        "months.columns = range(1,13)\n",
        "pyplot.matshow(months, interpolation=None, aspect='auto')\n",
        "pyplot.show()"
      ],
      "execution_count": 0,
      "outputs": []
    },
    {
      "cell_type": "markdown",
      "metadata": {
        "id": "QpPBeiMmuDz1",
        "colab_type": "text"
      },
      "source": [
        "## [Actividad] Time series o series temporales - \n",
        "\n",
        "Leyendo la siguiente documentación, genere una series de tiempo con valores aleatorios diarios. (al menos tres años o 5000 valores)\n",
        "\n",
        "Los valores aleatorios los puede generar usando un generador de números uniforme o normal (gaussiano)\n",
        "\n",
        "\n",
        "http://pandas.pydata.org/pandas-docs/stable/timeseries.html#anchored-offsets\n",
        "\n",
        "\n",
        "Grafique en un gráfico lineal/temporal y un histograma.\n",
        "En diagramas de caja identifique media y mediana.\n"
      ]
    },
    {
      "cell_type": "code",
      "metadata": {
        "id": "CtnEv47HNGyr",
        "colab_type": "code",
        "colab": {}
      },
      "source": [
        ""
      ],
      "execution_count": 0,
      "outputs": []
    },
    {
      "cell_type": "markdown",
      "metadata": {
        "id": "83-cjwT2NHkh",
        "colab_type": "text"
      },
      "source": [
        "breve ejemplo de generación de una serie de datos aleatoria"
      ]
    },
    {
      "cell_type": "code",
      "metadata": {
        "id": "iEIVxE6yLse-",
        "colab_type": "code",
        "colab": {}
      },
      "source": [
        "import numpy as np\n",
        "import pandas as pd\n",
        "from numpy import sqrt\n",
        "import matplotlib.pyplot as plt\n",
        "\n",
        "vol = .030\n",
        "lag = 300\n",
        "df = pd.DataFrame(np.random.randn(100000) * sqrt(vol) * sqrt(1 / 252.)).cumsum()\n",
        "plt.plot(df[0].tolist())\n",
        "plt.show()"
      ],
      "execution_count": 0,
      "outputs": []
    }
  ]
}