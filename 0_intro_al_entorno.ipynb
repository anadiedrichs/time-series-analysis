{
  "nbformat": 4,
  "nbformat_minor": 0,
  "metadata": {
    "colab": {
      "name": "0-intro-al-entorno",
      "provenance": [],
      "collapsed_sections": [],
      "include_colab_link": true
    },
    "kernelspec": {
      "display_name": "Python 3",
      "name": "python3"
    }
  },
  "cells": [
    {
      "cell_type": "markdown",
      "metadata": {
        "id": "view-in-github",
        "colab_type": "text"
      },
      "source": [
        "<a href=\"https://colab.research.google.com/github/anadiedrichs/time-series-analysis/blob/master/0_intro_al_entorno.ipynb\" target=\"_parent\"><img src=\"https://colab.research.google.com/assets/colab-badge.svg\" alt=\"Open In Colab\"/></a>"
      ]
    },
    {
      "cell_type": "markdown",
      "metadata": {
        "colab_type": "text",
        "id": "JyG45Qk3qQLS"
      },
      "source": [
        "# Celdas\n",
        "\n",
        "Un *notebook* es una lista de celdas. Cada celda (*cell* en inglés) puede contener texto o código.\n",
        "\n",
        "Prueba y haz click en una celda para editar su contenido.\n",
        "\n"
      ]
    },
    {
      "cell_type": "markdown",
      "metadata": {
        "colab_type": "text",
        "id": "KR921S_OQSHG"
      },
      "source": [
        "## Celdas de código\n",
        "\n",
        "Abajo vemos una celda de código o  **code cell**. Una vez que el botón en la barra de herramientas (arriba a la derecha) indique CONNECTED, puedes seleccionar la celda de código y ejecutar su contenido de la siguiente manera:\n",
        "\n",
        "* Click en el ícono de **Play** que se encuentra a la izquierda de la celda de código.\n",
        "* Tipea **Cmd/Ctrl+Enter** para correr una celda de código donde tengas tu cursor;\n",
        "* Tipea **Shift+Enter** para correr una celda de código y luego moverte a la siguiente celda (agrega una si no hay otra celda); o\n",
        "* Tipea **Alt+Enter**  para correr una celda e inserta un nuevo bloque de código inmediatamente abajo de esa celda.\n",
        "\n",
        "Existen otras opciones para correr celdas de código en el menú de **Runtime**.\n"
      ]
    },
    {
      "cell_type": "code",
      "metadata": {
        "cellView": "both",
        "colab_type": "code",
        "id": "WUtu4316QSHL",
        "colab": {
          "base_uri": "https://localhost:8080/",
          "height": 34
        },
        "outputId": "d5edad1b-ab46-4bea-e865-5ad25de8e5e5"
      },
      "source": [
        "a = 10\n",
        "a"
      ],
      "execution_count": null,
      "outputs": [
        {
          "output_type": "execute_result",
          "data": {
            "text/plain": [
              "10"
            ]
          },
          "metadata": {
            "tags": []
          },
          "execution_count": 5
        }
      ]
    },
    {
      "cell_type": "markdown",
      "metadata": {
        "colab_type": "text",
        "id": "Id6tDF1HQSHD"
      },
      "source": [
        "## Celdas de texto\n",
        "Esta es una celda de texto. Si realizas doble click puedes editarla. Las celdas de texto usan la sintaxis Markdown. Para aprender más mira este enlace (en inglés) [markdown\n",
        "guide](/notebooks/markdown_guide.ipynb).\n",
        "\n",
        "También se puede agregar fórmulas matemáticas usando el formato  [LaTeX](http://www.latex-project.org/)\n",
        "para ser renderizadas luego por [MathJax](https://www.mathjax.org). Tan sólo creas una fórmula si la colocas entre un par **\\$** caracter de signo peso. Por ejemplo si escribimos `$\\sqrt{3x-1}+(1+x)^2$` se muestra como $\\sqrt{3x-1}+(1+x)^2.$\n"
      ]
    },
    {
      "cell_type": "markdown",
      "metadata": {
        "colab_type": "text",
        "id": "7bqjkGKwQSHW"
      },
      "source": [
        "## Agregar y mover celdas de texto\n",
        "\n",
        "Puedes agregar nuevas celdas usando los botones **+ CODE** y **+ TEXT**que se muestran en la barra superior. \n",
        "\n",
        "Se puede mover una celda seleccionándola y haciendo click en los botones de la barra de herramientas **Cell Up** (para moverla arriba) o **Cell Down** para mover la celda abajo.\n",
        "\n",
        "Celdas consecutivas pueden ser seleccionadas:\n",
        "\n",
        "* Usando Shift mientras se mueve uno con el teclado o mouse\n",
        "* Usando el mouse, si lo mantienes presionado \"dibujando un rectángulo\", puedes seleccionar varias celdas contiguas.\n",
        "\n",
        "Para seleccionar celdas alternadas, usar Ctrl.\n"
      ]
    },
    {
      "cell_type": "markdown",
      "metadata": {
        "colab_type": "text",
        "id": "GOwlZRXEQSHZ"
      },
      "source": [
        "# Trabajando con código\n",
        "\n",
        "Colaboratory está construido sobre [Jupyter Notebook](https://jupyter.org/). Abajo mostraremos algunos ejemplos de funciones o utilidades de interés. "
      ]
    },
    {
      "cell_type": "markdown",
      "metadata": {
        "colab_type": "text",
        "id": "RVuqWUXPQSHa"
      },
      "source": [
        "Procesos que tarden mucho en correr, pueden ser interrumpidos. Corre la siguiente celda y selecciona **Runtime -> Interrupt execution** (*atajo de teclado: Cmd/Ctrl-M I*) para parar la ejecución."
      ]
    },
    {
      "cell_type": "markdown",
      "metadata": {
        "id": "lojkDVP1uifC",
        "colab_type": "text"
      },
      "source": [
        ""
      ]
    },
    {
      "cell_type": "code",
      "metadata": {
        "cellView": "both",
        "colab_type": "code",
        "id": "d-S-3nYLQSHb",
        "colab": {
          "base_uri": "https://localhost:8080/",
          "height": 51
        },
        "outputId": "fe797f29-c62b-431a-b153-469fda542d1f"
      },
      "source": [
        "import time\n",
        "print(\"Sleeping\")\n",
        "time.sleep(30) # sleep for a while; interrupt me!\n",
        "print(\"Done Sleeping\")"
      ],
      "execution_count": null,
      "outputs": [
        {
          "output_type": "stream",
          "text": [
            "Sleeping\n",
            "Done Sleeping\n"
          ],
          "name": "stdout"
        }
      ]
    },
    {
      "cell_type": "markdown",
      "metadata": {
        "colab_type": "text",
        "id": "Wej_mEyXQSHc"
      },
      "source": [
        "## Alias del sistema\n",
        "\n",
        "Usando en un bloque de código el símbolo ! podemos ejecutar comandos de \"consola linux\", por ejemplo en el siguiente se lista los archivos (ls), se indica el directorio de trabajo actual (pwd).\n",
        "Lo usaremos comunmente para instalar software nuevo al entorno (paquetes o librerías)"
      ]
    },
    {
      "cell_type": "code",
      "metadata": {
        "cellView": "both",
        "colab_type": "code",
        "id": "5OCYEvK5QSHf",
        "colab": {
          "base_uri": "https://localhost:8080/",
          "height": 34
        },
        "outputId": "e1d17cb5-70e7-4cba-9ad7-b4dbc00f6444"
      },
      "source": [
        "# esto es un comentario\n",
        "!ls "
      ],
      "execution_count": null,
      "outputs": [
        {
          "output_type": "stream",
          "text": [
            "sample_data\n"
          ],
          "name": "stdout"
        }
      ]
    },
    {
      "cell_type": "code",
      "metadata": {
        "id": "5PX0jrXKinyj",
        "colab_type": "code",
        "colab": {
          "base_uri": "https://localhost:8080/",
          "height": 34
        },
        "outputId": "f0fe5cc5-3a0f-4520-e227-93e6bccee579"
      },
      "source": [
        "!pwd"
      ],
      "execution_count": null,
      "outputs": [
        {
          "output_type": "stream",
          "text": [
            "/content\n"
          ],
          "name": "stdout"
        }
      ]
    },
    {
      "cell_type": "code",
      "metadata": {
        "cellView": "both",
        "colab_type": "code",
        "id": "zqGrv0blQSHj",
        "colab": {}
      },
      "source": [
        "message = '¡Programar es muy divertido!'\n",
        "!echo -e '$message\\n$message'\n"
      ],
      "execution_count": null,
      "outputs": []
    },
    {
      "cell_type": "markdown",
      "metadata": {
        "colab_type": "text",
        "id": "y8Da6JWKQSHh"
      },
      "source": [
        "Si obtienes una salida muy larga, luego de ejecutar algún bloque de código, podés limpiar o borrar el texto de salida. ¿Cómo se hace? \n",
        "\n",
        "* Click en la esquina superior derecha del bloque de código, selecciona \"Clear output\" del menú de opciones que se despliega.\n",
        "* O haciendo click derecho sobre el costado izquierdo del bloque de código, y elegir luego la opción \"Clear output\"\n"
      ]
    },
    {
      "cell_type": "markdown",
      "metadata": {
        "colab_type": "text",
        "id": "d4L9TOP9QSHn"
      },
      "source": [
        "## Completar con Tab y explorar código de librerías\n",
        "\n",
        "Colab nos brinda la funcionalidad de ir completando código mediante la tecla TAB o explorar atributos de objetos en Python, \n",
        "\n",
        "Como ejemplo, corre primero la siguiente celda de código para importar el módulo  [`numpy`](http://www.numpy.org)."
      ]
    },
    {
      "cell_type": "code",
      "metadata": {
        "cellView": "both",
        "colab_type": "code",
        "id": "Q0JKWcmtQSHp",
        "colab": {}
      },
      "source": [
        "import numpy as np"
      ],
      "execution_count": null,
      "outputs": []
    },
    {
      "cell_type": "markdown",
      "metadata": {
        "colab_type": "text",
        "id": "1M890-bXeyYp"
      },
      "source": [
        "Si colocas tu cursor luego de ``np.random.`` y presionas la tecla **Tab**, verás una lista de opciones disponibles para elegir dentro del submódulo  ``np.random``"
      ]
    },
    {
      "cell_type": "code",
      "metadata": {
        "cellView": "both",
        "colab_type": "code",
        "id": "j6QRIfUHQSHq",
        "colab": {}
      },
      "source": [
        "np.random."
      ],
      "execution_count": null,
      "outputs": []
    },
    {
      "cell_type": "markdown",
      "metadata": {
        "colab_type": "text",
        "id": "g6MfomFhQSHs"
      },
      "source": [
        "Si abres un paréntesis seguido de la tecla **Tab** luego de cada función o clase, verás una ventana *pop-up* de documentación"
      ]
    },
    {
      "cell_type": "code",
      "metadata": {
        "cellView": "both",
        "colab_type": "code",
        "id": "SD0XnrVhQSHt",
        "colab": {}
      },
      "source": [
        "np.random.rand("
      ],
      "execution_count": null,
      "outputs": []
    },
    {
      "cell_type": "code",
      "metadata": {
        "id": "M9LqtGbSvqnS",
        "colab_type": "code",
        "colab": {}
      },
      "source": [
        ""
      ],
      "execution_count": null,
      "outputs": []
    },
    {
      "cell_type": "markdown",
      "metadata": {
        "id": "CThRzCZhvrKl",
        "colab_type": "text"
      },
      "source": [
        "**bold text**"
      ]
    },
    {
      "cell_type": "markdown",
      "metadata": {
        "colab_type": "text",
        "id": "9ReRLQaxJ-zP"
      },
      "source": [
        "Para abrir la documentación en un panel aparte, en la parte inferior, agrega **?** luego del nombre del objeto o método usando **Shift+Enter**:"
      ]
    },
    {
      "cell_type": "code",
      "metadata": {
        "cellView": "both",
        "colab_type": "code",
        "id": "YgQ6Tu7DK17l",
        "colab": {}
      },
      "source": [
        "np.random?"
      ],
      "execution_count": null,
      "outputs": []
    },
    {
      "cell_type": "markdown",
      "metadata": {
        "colab_type": "text",
        "id": "TYTBdJXxfqiJ"
      },
      "source": [
        "## Excepciones"
      ]
    },
    {
      "cell_type": "markdown",
      "metadata": {
        "colab_type": "text",
        "id": "4bqAVK-aQSHx"
      },
      "source": [
        "A continuación damos un ejemplo de como se ven las excepciones, en el siguiente ejemplo es una división por cero"
      ]
    },
    {
      "cell_type": "code",
      "metadata": {
        "cellView": "both",
        "colab_type": "code",
        "id": "CrJf1PEmQSHx",
        "colab": {
          "base_uri": "https://localhost:8080/",
          "height": 197
        },
        "outputId": "147060b0-9753-40a0-af1f-432c6ed9bfd8"
      },
      "source": [
        "x = 1\n",
        "y = 4\n",
        "z = y/(1-x)"
      ],
      "execution_count": null,
      "outputs": [
        {
          "output_type": "error",
          "ename": "ZeroDivisionError",
          "evalue": "ignored",
          "traceback": [
            "\u001b[0;31m---------------------------------------------------------------------------\u001b[0m",
            "\u001b[0;31mZeroDivisionError\u001b[0m                         Traceback (most recent call last)",
            "\u001b[0;32m<ipython-input-11-d93e730d8440>\u001b[0m in \u001b[0;36m<module>\u001b[0;34m()\u001b[0m\n\u001b[1;32m      1\u001b[0m \u001b[0mx\u001b[0m \u001b[0;34m=\u001b[0m \u001b[0;36m1\u001b[0m\u001b[0;34m\u001b[0m\u001b[0;34m\u001b[0m\u001b[0m\n\u001b[1;32m      2\u001b[0m \u001b[0my\u001b[0m \u001b[0;34m=\u001b[0m \u001b[0;36m4\u001b[0m\u001b[0;34m\u001b[0m\u001b[0;34m\u001b[0m\u001b[0m\n\u001b[0;32m----> 3\u001b[0;31m \u001b[0mz\u001b[0m \u001b[0;34m=\u001b[0m \u001b[0my\u001b[0m\u001b[0;34m/\u001b[0m\u001b[0;34m(\u001b[0m\u001b[0;36m1\u001b[0m\u001b[0;34m-\u001b[0m\u001b[0mx\u001b[0m\u001b[0;34m)\u001b[0m\u001b[0;34m\u001b[0m\u001b[0;34m\u001b[0m\u001b[0m\n\u001b[0m",
            "\u001b[0;31mZeroDivisionError\u001b[0m: division by zero"
          ]
        }
      ]
    },
    {
      "cell_type": "markdown",
      "metadata": {
        "colab_type": "text",
        "id": "aro-UJgUQSH1"
      },
      "source": [
        "# Integración con Drive\n",
        "\n",
        "Colaboratory está integrado con Google Drive. Permite que compartas, comentes y colaboren sobre el mismo documento varias personas.\n",
        "\n",
        "* El botón **SHARE** (esquina superior derecha de la barra de herramientas) permite que compartas, por ejemplo, este archivo y el control de permisos sobre el mismo.\n",
        "\n",
        "* **File->Make a Copy** crea una copia de tu archivo en Drive.\n",
        "\n",
        "* **File->Save** guarda el archivo en Drive. \n",
        "\n",
        "* **File->Revision history** muestra la versión de cambios realizados en el documento. "
      ]
    },
    {
      "cell_type": "markdown",
      "metadata": {
        "colab_type": "text",
        "id": "4hfV37gxpP_c"
      },
      "source": [
        "## Comentar en una celda\n",
        "\n",
        "Puedes comentar un  * Colaboratory notebook* así como comentas un *Google Document*. Los comentarios son realizados sobre las celdas, y son mostrados al lado de la celda que comenta. Si tiene permiso de sólo comentar o **comment-only** ,  Ud. verá un botón de comentario en la esquina superior derecha de la celda, luego de que haga click sobre la misma.\n",
        "\n",
        "Si es tu propio archivo *notebook* o te han compartido uno con permisos para comentar, puedes crear un comentario:\n",
        "\n",
        "1.Seleccionando la celda y haciendo click derecho en el botón en la esquina derecha de la celda y seleccionar **Add a comment** del menú que se despliega.\n",
        "3. Usar el atajo de teclado **Ctrl+Shift+M** para añadir un comentario en la celda que se encuentre seleccionada.\n",
        "\n",
        "Ud. puede resolver y responder comentarios, también señalar a quienes colaboren tipeando  *+[email address]* (e.g., `+user@domain.com`). A quienes señale en el comentario, les llegará un mail. Este funcionamiento es similar a los comentarios en Google documents. \n",
        "\n",
        "El botón **Comment** en la esquina superior de la página, muestra todos los comentarios del *notebook* "
      ]
    }
  ]
}