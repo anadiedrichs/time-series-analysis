{
  "nbformat": 4,
  "nbformat_minor": 0,
  "metadata": {
    "colab": {
      "name": "Pandas-Python-Tips.ipynb",
      "provenance": [],
      "private_outputs": true,
      "authorship_tag": "ABX9TyP47nBMgeb/wFGyM5BCW6+r",
      "include_colab_link": true
    },
    "kernelspec": {
      "name": "python3",
      "display_name": "Python 3"
    }
  },
  "cells": [
    {
      "cell_type": "markdown",
      "metadata": {
        "id": "view-in-github",
        "colab_type": "text"
      },
      "source": [
        "<a href=\"https://colab.research.google.com/github/anadiedrichs/time-series-analysis/blob/master/Pandas_Python_Tips.ipynb\" target=\"_parent\"><img src=\"https://colab.research.google.com/assets/colab-badge.svg\" alt=\"Open In Colab\"/></a>"
      ]
    },
    {
      "cell_type": "code",
      "metadata": {
        "id": "vnAnb69v0D8b",
        "colab_type": "code",
        "colab": {}
      },
      "source": [
        "import pandas as pd\n",
        "import numpy as np"
      ],
      "execution_count": null,
      "outputs": []
    },
    {
      "cell_type": "markdown",
      "metadata": {
        "id": "i_oK0DVF02dr",
        "colab_type": "text"
      },
      "source": [
        "### Crear DataFrames, que son estructuras tabulares de datos.\n",
        "\n",
        "Usando diccionarios"
      ]
    },
    {
      "cell_type": "code",
      "metadata": {
        "id": "e86AYe9Y0-7E",
        "colab_type": "code",
        "colab": {}
      },
      "source": [
        "c1 = [\"data1\", \"data2\", \"data3\",\"data4\"]\n",
        "c2 = [3.6, 4.5, 5.9,7.8]\n",
        "c3 = [\"col1\", \"col2\", \"col3\",\"col4\"]\n"
      ],
      "execution_count": null,
      "outputs": []
    },
    {
      "cell_type": "code",
      "metadata": {
        "id": "rHTQqEwpMqOV",
        "colab_type": "code",
        "colab": {}
      },
      "source": [
        "c1"
      ],
      "execution_count": null,
      "outputs": []
    },
    {
      "cell_type": "code",
      "metadata": {
        "id": "onIJaO-UMliL",
        "colab_type": "code",
        "colab": {}
      },
      "source": [
        "\n",
        "d_dic ={'first_col_name':c1,'second_col_names':c2,'3rd_col_name':c3} \n"
      ],
      "execution_count": null,
      "outputs": []
    },
    {
      "cell_type": "code",
      "metadata": {
        "id": "uJCGtr2wM7RB",
        "colab_type": "code",
        "colab": {}
      },
      "source": [
        "d_dic"
      ],
      "execution_count": null,
      "outputs": []
    },
    {
      "cell_type": "code",
      "metadata": {
        "id": "m7spgUhs2NlA",
        "colab_type": "code",
        "colab": {}
      },
      "source": [
        "df = pd.DataFrame(data = d_dic)"
      ],
      "execution_count": null,
      "outputs": []
    },
    {
      "cell_type": "code",
      "metadata": {
        "id": "vaF7Cy8mNEsJ",
        "colab_type": "code",
        "colab": {}
      },
      "source": [
        "df"
      ],
      "execution_count": null,
      "outputs": []
    },
    {
      "cell_type": "markdown",
      "metadata": {
        "id": "uRxihwjV08dW",
        "colab_type": "text"
      },
      "source": [
        "Usando NumPy arrays"
      ]
    },
    {
      "cell_type": "code",
      "metadata": {
        "id": "RxTbcanvNV-y",
        "colab_type": "code",
        "colab": {}
      },
      "source": [
        "#np_data = np.zeros((no_of_samples,no_of_features)) #any_numpy_array\n",
        "np_data = np.zeros((1000,4)) #any_numpy_array"
      ],
      "execution_count": null,
      "outputs": []
    },
    {
      "cell_type": "code",
      "metadata": {
        "id": "v5yen2IeNcc7",
        "colab_type": "code",
        "colab": {}
      },
      "source": [
        "np_data"
      ],
      "execution_count": null,
      "outputs": []
    },
    {
      "cell_type": "code",
      "metadata": {
        "id": "7RPwkdLv1SHU",
        "colab_type": "code",
        "colab": {}
      },
      "source": [
        "\n",
        "#df = pd.DataFrame(data=np_data, columns = list_of_Col_names)\n",
        "\n",
        "df = pd.DataFrame(data=np_data, columns = [\"col1\", \"col2\", \"col3\",\"col4\"])\n"
      ],
      "execution_count": null,
      "outputs": []
    },
    {
      "cell_type": "code",
      "metadata": {
        "id": "FJKV1U8CN2Sa",
        "colab_type": "code",
        "colab": {}
      },
      "source": [
        "df"
      ],
      "execution_count": null,
      "outputs": []
    },
    {
      "cell_type": "markdown",
      "metadata": {
        "id": "wghsymrKz5oY",
        "colab_type": "text"
      },
      "source": [
        "### Leer y cargar archivos csv"
      ]
    },
    {
      "cell_type": "code",
      "metadata": {
        "id": "_LHo3VEv0LZt",
        "colab_type": "code",
        "colab": {}
      },
      "source": [
        "# obtener ayuda para saber más de la función\n",
        "# help(pd.read_csv)"
      ],
      "execution_count": null,
      "outputs": []
    },
    {
      "cell_type": "code",
      "metadata": {
        "id": "TlApbdRgz05H",
        "colab_type": "code",
        "colab": {}
      },
      "source": [
        "# df = pd.read_csv(\"file_path\", sep=’,’, header = 0, index_col=False,names=None)"
      ],
      "execution_count": null,
      "outputs": []
    },
    {
      "cell_type": "code",
      "metadata": {
        "id": "NAxtIqQrOgN3",
        "colab_type": "code",
        "colab": {}
      },
      "source": [
        "! wget http://datos.minem.gob.ar/dataset/2b4dfee6-6fca-4e4d-9611-a12d65cd4aa8/resource/30e1c42d-44a7-428f-a55a-12c81dc14186/download/demanda-histrica.csv\n"
      ],
      "execution_count": null,
      "outputs": []
    },
    {
      "cell_type": "code",
      "metadata": {
        "id": "8vtR_Cu_0alm",
        "colab_type": "code",
        "colab": {}
      },
      "source": [
        "\n",
        "enlace = \"http://datos.minem.gob.ar/dataset/2b4dfee6-6fca-4e4d-9611-a12d65cd4aa8/resource/30e1c42d-44a7-428f-a55a-12c81dc14186/download/demanda-histrica.csv\"\n",
        "\n",
        "df = pd.read_csv(enlace, sep=\",\", header = 0, index_col=False,names=None)\n",
        "df"
      ],
      "execution_count": null,
      "outputs": []
    },
    {
      "cell_type": "code",
      "metadata": {
        "id": "hyeKbs9mY0KT",
        "colab_type": "code",
        "colab": {}
      },
      "source": [
        "parse_fechas = ['anio','mes']\n",
        "df = pd.read_csv(enlace, sep=\",\", header = 0, index_col=False,names=None,squeeze=True)"
      ],
      "execution_count": null,
      "outputs": []
    },
    {
      "cell_type": "code",
      "metadata": {
        "id": "T78e9Nc3knKW",
        "colab_type": "code",
        "colab": {}
      },
      "source": [
        "df[df['mes'] == 2]"
      ],
      "execution_count": null,
      "outputs": []
    },
    {
      "cell_type": "code",
      "metadata": {
        "id": "nEslKTdPkwoU",
        "colab_type": "code",
        "colab": {}
      },
      "source": [
        "df.info()"
      ],
      "execution_count": null,
      "outputs": []
    },
    {
      "cell_type": "code",
      "metadata": {
        "id": "C2JjQ04Wk3Z6",
        "colab_type": "code",
        "colab": {}
      },
      "source": [
        "parse_fechas = ['anio','mes']\n",
        "df = pd.read_csv(enlace, sep=\",\", header = 0, index_col=False,names=None,squeeze=True)"
      ],
      "execution_count": null,
      "outputs": []
    },
    {
      "cell_type": "code",
      "metadata": {
        "id": "6tryASbck-8E",
        "colab_type": "code",
        "colab": {}
      },
      "source": [
        "df.info()"
      ],
      "execution_count": null,
      "outputs": []
    },
    {
      "cell_type": "code",
      "metadata": {
        "id": "0_JBE1J3ndQk",
        "colab_type": "code",
        "colab": {}
      },
      "source": [
        "pd.datetime.datetime(2000, 10,9)"
      ],
      "execution_count": null,
      "outputs": []
    },
    {
      "cell_type": "code",
      "metadata": {
        "id": "V5a1qhpxn5hO",
        "colab_type": "code",
        "colab": {}
      },
      "source": [
        "df2 = pd.DataFrame({'year': [2015, 2016],\n",
        "                   'month': [2, 3],\n",
        "                   'day': [4, 5]})\n",
        "pd.to_datetime(df2)"
      ],
      "execution_count": null,
      "outputs": []
    },
    {
      "cell_type": "code",
      "metadata": {
        "id": "8A5p1kD1oAtB",
        "colab_type": "code",
        "colab": {}
      },
      "source": [
        "df2 = pd.DataFrame({'year': df['anio'],\n",
        "                   'month': df['mes'],\n",
        "                   'day': df['mes']})"
      ],
      "execution_count": null,
      "outputs": []
    },
    {
      "cell_type": "code",
      "metadata": {
        "id": "PJIYBYbfoQMa",
        "colab_type": "code",
        "colab": {}
      },
      "source": [
        "df2"
      ],
      "execution_count": null,
      "outputs": []
    },
    {
      "cell_type": "code",
      "metadata": {
        "id": "wgtQeRtiY99X",
        "colab_type": "code",
        "colab": {}
      },
      "source": [
        "\n",
        "pd.to_datetime(df2)"
      ],
      "execution_count": null,
      "outputs": []
    },
    {
      "cell_type": "code",
      "metadata": {
        "id": "pQwOEhi-h620",
        "colab_type": "code",
        "colab": {}
      },
      "source": [
        "df.loc[:,'mi_fecha'] =pd.to_datetime(df2)"
      ],
      "execution_count": null,
      "outputs": []
    },
    {
      "cell_type": "code",
      "metadata": {
        "id": "BRDvRBIdiA3x",
        "colab_type": "code",
        "colab": {}
      },
      "source": [
        "df.head(23)"
      ],
      "execution_count": null,
      "outputs": []
    },
    {
      "cell_type": "code",
      "metadata": {
        "id": "bOoqF7SBjOrV",
        "colab_type": "code",
        "colab": {}
      },
      "source": [
        "df['mes'].value_counts()"
      ],
      "execution_count": null,
      "outputs": []
    },
    {
      "cell_type": "code",
      "metadata": {
        "id": "TtBbHFTZkFnp",
        "colab_type": "code",
        "colab": {}
      },
      "source": [
        "df[df['mes'] == 2]"
      ],
      "execution_count": null,
      "outputs": []
    },
    {
      "cell_type": "code",
      "metadata": {
        "id": "A7cV37hJlfhj",
        "colab_type": "code",
        "colab": {}
      },
      "source": [
        "df.info()"
      ],
      "execution_count": null,
      "outputs": []
    },
    {
      "cell_type": "markdown",
      "metadata": {
        "id": "4JqUGenx2jfY",
        "colab_type": "text"
      },
      "source": [
        "### Visualizar al principio y final del dataset"
      ]
    },
    {
      "cell_type": "code",
      "metadata": {
        "id": "3MsyaQl62izj",
        "colab_type": "code",
        "colab": {}
      },
      "source": [
        "df.head(3)"
      ],
      "execution_count": null,
      "outputs": []
    },
    {
      "cell_type": "code",
      "metadata": {
        "id": "sHq2ZKJg2xvO",
        "colab_type": "code",
        "colab": {}
      },
      "source": [
        "df.tail(5)"
      ],
      "execution_count": null,
      "outputs": []
    },
    {
      "cell_type": "markdown",
      "metadata": {
        "id": "bTiZBRhc28GN",
        "colab_type": "text"
      },
      "source": [
        "### Renombrar columnas"
      ]
    },
    {
      "cell_type": "code",
      "metadata": {
        "id": "hZdWAWDJ3Ayz",
        "colab_type": "code",
        "colab": {}
      },
      "source": [
        "df = pd.DataFrame(data={'a':[1,2,3,4,5],'b':[0,1,5,10,15]})\n"
      ],
      "execution_count": null,
      "outputs": []
    },
    {
      "cell_type": "code",
      "metadata": {
        "id": "DfuhCsV53VmN",
        "colab_type": "code",
        "colab": {}
      },
      "source": [
        "df"
      ],
      "execution_count": null,
      "outputs": []
    },
    {
      "cell_type": "code",
      "metadata": {
        "id": "ElpUM6sw3B8Z",
        "colab_type": "code",
        "colab": {}
      },
      "source": [
        "new_df = df.rename({'a':'variableA','b':'variableB'})"
      ],
      "execution_count": null,
      "outputs": []
    },
    {
      "cell_type": "code",
      "metadata": {
        "id": "rpTqNssGPQhG",
        "colab_type": "code",
        "colab": {}
      },
      "source": [
        "df"
      ],
      "execution_count": null,
      "outputs": []
    },
    {
      "cell_type": "markdown",
      "metadata": {
        "id": "kgXMQZSd3Zwe",
        "colab_type": "text"
      },
      "source": [
        "### Frecuencia de valores en una serie "
      ]
    },
    {
      "cell_type": "code",
      "metadata": {
        "id": "UymEA_lg4qfA",
        "colab_type": "code",
        "colab": {}
      },
      "source": [
        "df['categoria_demanda'].value_counts() "
      ],
      "execution_count": null,
      "outputs": []
    },
    {
      "cell_type": "markdown",
      "metadata": {
        "id": "4ycKi0hO5Br1",
        "colab_type": "text"
      },
      "source": [
        "## Filtrar según valores en una columna o serie"
      ]
    },
    {
      "cell_type": "markdown",
      "metadata": {
        "id": "RoReYOod5oqY",
        "colab_type": "text"
      },
      "source": [
        "Ejemplo, dejar sólo Mendoza"
      ]
    },
    {
      "cell_type": "code",
      "metadata": {
        "id": "DN2MWpsDQxBp",
        "colab_type": "code",
        "colab": {}
      },
      "source": [
        "df['provincia']==\"MENDOZA\""
      ],
      "execution_count": null,
      "outputs": []
    },
    {
      "cell_type": "code",
      "metadata": {
        "id": "-v3zpf7e5BDx",
        "colab_type": "code",
        "colab": {}
      },
      "source": [
        "df[df['provincia']==\"MENDOZA\"].head()"
      ],
      "execution_count": null,
      "outputs": []
    },
    {
      "cell_type": "markdown",
      "metadata": {
        "id": "WeOu8i7xRdSt",
        "colab_type": "text"
      },
      "source": [
        "tarifa"
      ]
    },
    {
      "cell_type": "code",
      "metadata": {
        "id": "ia-ib2pvRbaj",
        "colab_type": "code",
        "colab": {}
      },
      "source": [
        "df['tarifa'].value_counts() "
      ],
      "execution_count": null,
      "outputs": []
    },
    {
      "cell_type": "markdown",
      "metadata": {
        "id": "YgC2lmA059Jp",
        "colab_type": "text"
      },
      "source": [
        "Ejemplo, filtrar region Cuyo y tarifa alumbrado Publico\n",
        "\n"
      ]
    },
    {
      "cell_type": "code",
      "metadata": {
        "id": "5hM1XE3TRKhM",
        "colab_type": "code",
        "colab": {}
      },
      "source": [
        "df['region']"
      ],
      "execution_count": null,
      "outputs": []
    },
    {
      "cell_type": "code",
      "metadata": {
        "id": "dRLiytUH3Y9t",
        "colab_type": "code",
        "colab": {}
      },
      "source": [
        "mi_filtro = ( df['region']==\"CUYO\" ) & (df['tarifa']==\"Alumbrado Publico\")"
      ],
      "execution_count": null,
      "outputs": []
    },
    {
      "cell_type": "code",
      "metadata": {
        "id": "k-NBKX6JR_Oj",
        "colab_type": "code",
        "colab": {}
      },
      "source": [
        "mi_filtro"
      ],
      "execution_count": null,
      "outputs": []
    },
    {
      "cell_type": "code",
      "metadata": {
        "id": "lEvKI64c6hee",
        "colab_type": "code",
        "colab": {}
      },
      "source": [
        "result = df[mi_filtro]"
      ],
      "execution_count": null,
      "outputs": []
    },
    {
      "cell_type": "code",
      "metadata": {
        "id": "22TT64R8TGbh",
        "colab_type": "code",
        "colab": {}
      },
      "source": [
        "result = df[( df['region']==\"CUYO\" ) & (df['tarifa']==\"Alumbrado Publico\")]"
      ],
      "execution_count": null,
      "outputs": []
    },
    {
      "cell_type": "code",
      "metadata": {
        "id": "a5pKQXKCSqdk",
        "colab_type": "code",
        "colab": {}
      },
      "source": [
        "result.describe()"
      ],
      "execution_count": null,
      "outputs": []
    },
    {
      "cell_type": "markdown",
      "metadata": {
        "id": "VUSx6eh1Si1b",
        "colab_type": "text"
      },
      "source": [
        "Buscar palabra SOCIAL en la columna tarifa , como encontrar un texto o cadena en una columna"
      ]
    },
    {
      "cell_type": "code",
      "metadata": {
        "id": "Y9pl3oroTd8u",
        "colab_type": "code",
        "colab": {}
      },
      "source": [
        "df.head(3)"
      ],
      "execution_count": null,
      "outputs": []
    },
    {
      "cell_type": "code",
      "metadata": {
        "id": "GCdcZfD4UC25",
        "colab_type": "code",
        "colab": {}
      },
      "source": [
        "*estaPalabra*"
      ],
      "execution_count": null,
      "outputs": []
    },
    {
      "cell_type": "code",
      "metadata": {
        "id": "0xeo7zELShn6",
        "colab_type": "code",
        "colab": {}
      },
      "source": [
        "df[df['tarifa'].str.contains(\"SOCIAL\")]"
      ],
      "execution_count": null,
      "outputs": []
    },
    {
      "cell_type": "code",
      "metadata": {
        "id": "JSYw4hcOVKEW",
        "colab_type": "code",
        "colab": {}
      },
      "source": [
        "df['demanda_MWh'].max()"
      ],
      "execution_count": null,
      "outputs": []
    },
    {
      "cell_type": "markdown",
      "metadata": {
        "id": "t4jwWr7mi6iq",
        "colab_type": "text"
      },
      "source": [
        "Fechas filtrar mes 2"
      ]
    },
    {
      "cell_type": "code",
      "metadata": {
        "id": "5tK7Qzwwi5gE",
        "colab_type": "code",
        "colab": {}
      },
      "source": [
        "df[df['mes']==2]"
      ],
      "execution_count": null,
      "outputs": []
    },
    {
      "cell_type": "markdown",
      "metadata": {
        "id": "c0O4tN1Y6ptH",
        "colab_type": "text"
      },
      "source": [
        "### Seleccionar columnas con cuales quedarme"
      ]
    },
    {
      "cell_type": "markdown",
      "metadata": {
        "id": "MczJYOcY6tTh",
        "colab_type": "text"
      },
      "source": [
        ""
      ]
    },
    {
      "cell_type": "code",
      "metadata": {
        "id": "IfwBRX_e6tts",
        "colab_type": "code",
        "colab": {}
      },
      "source": [
        "df[['mi_fecha','agente_descripcion','provincia']]"
      ],
      "execution_count": null,
      "outputs": []
    },
    {
      "cell_type": "markdown",
      "metadata": {
        "id": "-7-6Cb64AVR6",
        "colab_type": "text"
      },
      "source": [
        "df.me"
      ]
    },
    {
      "cell_type": "markdown",
      "metadata": {
        "id": "dmfszo6Z7YaP",
        "colab_type": "text"
      },
      "source": [
        "### Dimensiones varias"
      ]
    },
    {
      "cell_type": "code",
      "metadata": {
        "id": "LGwob1Au7XxA",
        "colab_type": "code",
        "colab": {}
      },
      "source": [
        "# https://pandas.pydata.org/pandas-docs/stable/reference/api/pandas.DataFrame.size.html\n",
        "df.size"
      ],
      "execution_count": null,
      "outputs": []
    },
    {
      "cell_type": "code",
      "metadata": {
        "id": "lssuQ91BA6iQ",
        "colab_type": "code",
        "colab": {}
      },
      "source": [
        "df.shape"
      ],
      "execution_count": null,
      "outputs": []
    },
    {
      "cell_type": "code",
      "metadata": {
        "id": "I_xQTpbGA8XJ",
        "colab_type": "code",
        "colab": {}
      },
      "source": [
        "df.ndim"
      ],
      "execution_count": null,
      "outputs": []
    },
    {
      "cell_type": "markdown",
      "metadata": {
        "id": "Yxpg6iGYB-Xb",
        "colab_type": "text"
      },
      "source": [
        "### Tamaño en bytes"
      ]
    },
    {
      "cell_type": "code",
      "metadata": {
        "id": "J0SHR3wLB9go",
        "colab_type": "code",
        "colab": {}
      },
      "source": [
        "# CUANTOS bytes ocupa cada columna\n",
        "df.memory_usage()"
      ],
      "execution_count": null,
      "outputs": []
    },
    {
      "cell_type": "code",
      "metadata": {
        "id": "nHXZ4z6bCXPm",
        "colab_type": "code",
        "colab": {}
      },
      "source": [
        "df.memory_usage(index=True).sum()/1024/1024"
      ],
      "execution_count": null,
      "outputs": []
    },
    {
      "cell_type": "code",
      "metadata": {
        "id": "Mgym0W-gDGHk",
        "colab_type": "code",
        "colab": {}
      },
      "source": [
        "df.info()"
      ],
      "execution_count": null,
      "outputs": []
    }
  ]
}