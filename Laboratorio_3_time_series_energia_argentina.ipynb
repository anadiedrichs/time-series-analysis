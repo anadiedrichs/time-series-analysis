{
  "nbformat": 4,
  "nbformat_minor": 0,
  "metadata": {
    "colab": {
      "name": "Laboratorio_3_time_series_energia_argentina.ipynb",
      "provenance": [],
      "collapsed_sections": [],
      "include_colab_link": true
    },
    "kernelspec": {
      "name": "python3",
      "display_name": "Python 3"
    }
  },
  "cells": [
    {
      "cell_type": "markdown",
      "metadata": {
        "id": "view-in-github",
        "colab_type": "text"
      },
      "source": [
        "<a href=\"https://colab.research.google.com/github/anadiedrichs/time-series-analysis/blob/master/Laboratorio_3_time_series_energia_argentina.ipynb\" target=\"_parent\"><img src=\"https://colab.research.google.com/assets/colab-badge.svg\" alt=\"Open In Colab\"/></a>"
      ]
    },
    {
      "cell_type": "markdown",
      "metadata": {
        "id": "krEUB4x2U-CL",
        "colab_type": "text"
      },
      "source": [
        "# Laboratorio #3 Proyecto demanda energética argentina\n",
        "\n",
        "## Unidad análisis de series temporales - Teleinformática IoT - 2019\n",
        "\n",
        "**Docente: Ing. Ana Laura Diedrichs**\n",
        "\n",
        "Topic: Consulta Ana Laura Diedrichs - Miércoles 14 hs y Viernes 20:30 hs - Contraseña Consulta\n",
        "Zoom Meeting\n",
        "https://utn.zoom.us/j/94481395966\n",
        "Meeting ID: 944 8139 5966\n",
        "Passcode: Consulta\n",
        "\n",
        "* Email: ana.diedrichs@frm.utn.edu.ar\n",
        "* Telegram / twitter  @anadiedrichs\n",
        "\n",
        "## Objetivos del laboratorio:\n",
        "\n",
        "* Analizar una serie temporal para un problema específico\n",
        "* Fomentar el trabajo en clase, discusión y aportes de soluciones entre los participantes\n",
        "* Ser una entrada en calor o introducción del uso del entorno colab.research.google.com y librerías Python como pandas\n",
        "\n",
        "## Pre-requisitos o pre-condiciones\n",
        "* Tener una cuenta google (gmail)\n",
        "* Tener instalado el navegador google chrome \n",
        "* Contar con conectividad a Internet\n",
        "\n",
        "## Entrega y uso del laboratorio\n",
        "\n",
        "**USO**\n",
        "\n",
        "* Antes que cualquier cosa, **cree una copia de este notebook: Click en *File*, luego *Save a Copy in Drive***\n",
        "* Renombre el archivo con el siguiente formato: APELLIDO_NOMBRE_LEGAJO_titulonotebook.ipynb \n",
        "Ejemplo: DIEDRICHS_ANA_99999_time_series_argentina.ipynb\n",
        "* Use el notebook en colab.google, complete las actividades y consignas que se elija. \n",
        "* Este laboratorio es una actividad individual.\n",
        "* Se fomenta el intercambio de opiniones en clase y exposición.\n",
        "\n",
        "**ENTREGA**\n",
        "\n",
        "* Una vez finalizado el laboratorio, complete [el formulario de entrega](https://forms.gle/bNJs5czZrZX3fU1M7) indicando\n",
        " * Apellido\n",
        " * Nombre\n",
        " * Nro Legajo\n",
        " * Carrera\n",
        " * Actividad (cuál laboratorio o actividad)\n",
        " * link de su notebook. El mismo se obtiene si realiza click en *Share* (esquina superior derecha) y luego en *Get shareable link* \n",
        " \n",
        " \n",
        " No se aceptarán otras formas de entrega distintas a la mencionada.\n",
        " "
      ]
    },
    {
      "cell_type": "markdown",
      "metadata": {
        "id": "RFZazCdSJiQI",
        "colab_type": "text"
      },
      "source": [
        "## Dataset\n",
        "\n",
        "Vamos a trabajar con el dataset de demanda histórica eléctrica de Argentina.\n",
        "\n",
        "Fuente del dataset\n",
        "\n",
        "http://datos.minem.gob.ar/dataset/publicaciones-cammesa/archivo/30e1c42d-44a7-428f-a55a-12c81dc14186\n",
        "\n",
        "Link para descarga directa del dataset\n",
        "\n",
        "http://datos.minem.gob.ar/dataset/2b4dfee6-6fca-4e4d-9611-a12d65cd4aa8/resource/30e1c42d-44a7-428f-a55a-12c81dc14186/download/demanda-histrica.csv\n",
        "\n",
        "\n"
      ]
    },
    {
      "cell_type": "markdown",
      "metadata": {
        "id": "qzXxPXaoKuVk",
        "colab_type": "text"
      },
      "source": [
        "## Carga del dataset"
      ]
    },
    {
      "cell_type": "code",
      "metadata": {
        "id": "S8-DQKasOnV-",
        "colab_type": "code",
        "colab": {}
      },
      "source": [
        "import pandas as pd\n",
        "from pandas import Series\n",
        "data = pd.read_csv('http://datos.minem.gob.ar/dataset/2b4dfee6-6fca-4e4d-9611-a12d65cd4aa8/resource/30e1c42d-44a7-428f-a55a-12c81dc14186/download/demanda-histrica.csv',header=0, parse_dates=[0],squeeze=True) #index_col=0,\n"
      ],
      "execution_count": 1,
      "outputs": []
    },
    {
      "cell_type": "markdown",
      "metadata": {
        "id": "Pu7tTTJXSiJn",
        "colab_type": "text"
      },
      "source": [
        "index_col es 0 : toma la primer columna como indice por defecto \n",
        "\n",
        "\n",
        "header es 0, la primer fila es usada como cabecera\n",
        "\n",
        "\n",
        "parse_dates es True, intenta convertir los tipos de datos a tipo DateTime\n",
        "\n",
        "La option squeeze=True regresa tipo Series"
      ]
    },
    {
      "cell_type": "markdown",
      "metadata": {
        "id": "pmoGcUZmTj2T",
        "colab_type": "text"
      },
      "source": [
        "Mostramos las primeras 10 líneas del dataset"
      ]
    },
    {
      "cell_type": "code",
      "metadata": {
        "id": "ZQX3eIwRRr5N",
        "colab_type": "code",
        "colab": {
          "base_uri": "https://localhost:8080/",
          "height": 549
        },
        "outputId": "e011b974-2779-44e3-ca26-45f59f1f6479"
      },
      "source": [
        "data.head(10) "
      ],
      "execution_count": 2,
      "outputs": [
        {
          "output_type": "execute_result",
          "data": {
            "text/html": [
              "<div>\n",
              "<style scoped>\n",
              "    .dataframe tbody tr th:only-of-type {\n",
              "        vertical-align: middle;\n",
              "    }\n",
              "\n",
              "    .dataframe tbody tr th {\n",
              "        vertical-align: top;\n",
              "    }\n",
              "\n",
              "    .dataframe thead th {\n",
              "        text-align: right;\n",
              "    }\n",
              "</style>\n",
              "<table border=\"1\" class=\"dataframe\">\n",
              "  <thead>\n",
              "    <tr style=\"text-align: right;\">\n",
              "      <th></th>\n",
              "      <th>anio</th>\n",
              "      <th>mes</th>\n",
              "      <th>agente_nemo</th>\n",
              "      <th>agente_descripcion</th>\n",
              "      <th>tipo_agente</th>\n",
              "      <th>region</th>\n",
              "      <th>provincia</th>\n",
              "      <th>categoria_area</th>\n",
              "      <th>categoria_demanda</th>\n",
              "      <th>tarifa</th>\n",
              "      <th>categoria_tarifa</th>\n",
              "      <th>demanda_MWh</th>\n",
              "      <th>indice_tiempo</th>\n",
              "    </tr>\n",
              "  </thead>\n",
              "  <tbody>\n",
              "    <tr>\n",
              "      <th>0</th>\n",
              "      <td>2012-01-01</td>\n",
              "      <td>1</td>\n",
              "      <td>AARGTAOY</td>\n",
              "      <td>AEROP ARG 2000 - Aeroparque</td>\n",
              "      <td>GU</td>\n",
              "      <td>GRAN BS.AS.</td>\n",
              "      <td>BUENOS AIRES</td>\n",
              "      <td>Gran Usuario MEM</td>\n",
              "      <td>Gran Usuario</td>\n",
              "      <td>GUMAS/AUTOGENERADORES</td>\n",
              "      <td>Industrial/Comercial Grande</td>\n",
              "      <td>2222.628</td>\n",
              "      <td>2012-01</td>\n",
              "    </tr>\n",
              "    <tr>\n",
              "      <th>1</th>\n",
              "      <td>2012-01-01</td>\n",
              "      <td>1</td>\n",
              "      <td>ACARQQ3Y</td>\n",
              "      <td>ASOC.COOP.ARG. - Quequén</td>\n",
              "      <td>GU</td>\n",
              "      <td>BUENOS AIRES</td>\n",
              "      <td>BUENOS AIRES</td>\n",
              "      <td>Gran Usuario MEM</td>\n",
              "      <td>Gran Usuario</td>\n",
              "      <td>GUMAS/AUTOGENERADORES</td>\n",
              "      <td>Industrial/Comercial Grande</td>\n",
              "      <td>536.858</td>\n",
              "      <td>2012-01</td>\n",
              "    </tr>\n",
              "    <tr>\n",
              "      <th>2</th>\n",
              "      <td>2012-01-01</td>\n",
              "      <td>1</td>\n",
              "      <td>ACARSLSY</td>\n",
              "      <td>ASOC.COOP.ARG. - San Lorenzo</td>\n",
              "      <td>GU</td>\n",
              "      <td>LITORAL</td>\n",
              "      <td>SANTA FE</td>\n",
              "      <td>Gran Usuario MEM</td>\n",
              "      <td>Gran Usuario</td>\n",
              "      <td>GUMAS/AUTOGENERADORES</td>\n",
              "      <td>Industrial/Comercial Grande</td>\n",
              "      <td>336.297</td>\n",
              "      <td>2012-01</td>\n",
              "    </tr>\n",
              "    <tr>\n",
              "      <th>3</th>\n",
              "      <td>2012-01-01</td>\n",
              "      <td>1</td>\n",
              "      <td>ACINROSY</td>\n",
              "      <td>ACINDAR ROSARIO EX-NAVARRO</td>\n",
              "      <td>GU</td>\n",
              "      <td>LITORAL</td>\n",
              "      <td>SANTA FE</td>\n",
              "      <td>Gran Usuario MEM</td>\n",
              "      <td>Gran Usuario</td>\n",
              "      <td>GUMAS/AUTOGENERADORES</td>\n",
              "      <td>Industrial/Comercial Grande</td>\n",
              "      <td>601.066</td>\n",
              "      <td>2012-01</td>\n",
              "    </tr>\n",
              "    <tr>\n",
              "      <th>4</th>\n",
              "      <td>2012-01-01</td>\n",
              "      <td>1</td>\n",
              "      <td>ACINTBOY</td>\n",
              "      <td>ACINDAR PTA. TABLADA</td>\n",
              "      <td>GU</td>\n",
              "      <td>GRAN BS.AS.</td>\n",
              "      <td>BUENOS AIRES</td>\n",
              "      <td>Gran Usuario MEM</td>\n",
              "      <td>Gran Usuario</td>\n",
              "      <td>GUMAS/AUTOGENERADORES</td>\n",
              "      <td>Industrial/Comercial Grande</td>\n",
              "      <td>3076.618</td>\n",
              "      <td>2012-01</td>\n",
              "    </tr>\n",
              "    <tr>\n",
              "      <th>5</th>\n",
              "      <td>2012-01-01</td>\n",
              "      <td>1</td>\n",
              "      <td>ACINVCSZ</td>\n",
              "      <td>ACINDAR PTA. V. CONSTITUCION</td>\n",
              "      <td>GU</td>\n",
              "      <td>LITORAL</td>\n",
              "      <td>SANTA FE</td>\n",
              "      <td>Gran Usuario MEM</td>\n",
              "      <td>Gran Usuario</td>\n",
              "      <td>GUMAS/AUTOGENERADORES</td>\n",
              "      <td>Industrial/Comercial Grande</td>\n",
              "      <td>68179.459</td>\n",
              "      <td>2012-01</td>\n",
              "    </tr>\n",
              "    <tr>\n",
              "      <th>6</th>\n",
              "      <td>2012-01-01</td>\n",
              "      <td>1</td>\n",
              "      <td>ACUYLCMY</td>\n",
              "      <td>ACEROS CUYANOS S.A.- L.DE CUYO</td>\n",
              "      <td>GU</td>\n",
              "      <td>CUYO</td>\n",
              "      <td>MENDOZA</td>\n",
              "      <td>Gran Usuario MEM</td>\n",
              "      <td>Gran Usuario</td>\n",
              "      <td>GUMAS/AUTOGENERADORES</td>\n",
              "      <td>Industrial/Comercial Grande</td>\n",
              "      <td>703.186</td>\n",
              "      <td>2012-01</td>\n",
              "    </tr>\n",
              "    <tr>\n",
              "      <th>7</th>\n",
              "      <td>2012-01-01</td>\n",
              "      <td>1</td>\n",
              "      <td>AEEZECCY</td>\n",
              "      <td>AEROP ARG 2000 EX FAA EZEIZA</td>\n",
              "      <td>GU</td>\n",
              "      <td>GRAN BS.AS.</td>\n",
              "      <td>BUENOS AIRES</td>\n",
              "      <td>Gran Usuario MEM</td>\n",
              "      <td>Gran Usuario</td>\n",
              "      <td>GUMAS/AUTOGENERADORES</td>\n",
              "      <td>Industrial/Comercial Grande</td>\n",
              "      <td>5584.473</td>\n",
              "      <td>2012-01</td>\n",
              "    </tr>\n",
              "    <tr>\n",
              "      <th>8</th>\n",
              "      <td>2012-01-01</td>\n",
              "      <td>1</td>\n",
              "      <td>AGEABACY</td>\n",
              "      <td>ARTE GRAFICO EDIT. ARG. SA</td>\n",
              "      <td>GU</td>\n",
              "      <td>GRAN BS.AS.</td>\n",
              "      <td>BUENOS AIRES</td>\n",
              "      <td>Gran Usuario MEM</td>\n",
              "      <td>Gran Usuario</td>\n",
              "      <td>GUMAS/AUTOGENERADORES</td>\n",
              "      <td>Industrial/Comercial Grande</td>\n",
              "      <td>1218.180</td>\n",
              "      <td>2012-01</td>\n",
              "    </tr>\n",
              "    <tr>\n",
              "      <th>9</th>\n",
              "      <td>2012-01-01</td>\n",
              "      <td>1</td>\n",
              "      <td>AGEATACY</td>\n",
              "      <td>ARTE GRAFICA EDIT.Pta.Tacuari</td>\n",
              "      <td>GU</td>\n",
              "      <td>GRAN BS.AS.</td>\n",
              "      <td>BUENOS AIRES</td>\n",
              "      <td>Gran Usuario MEM</td>\n",
              "      <td>Gran Usuario</td>\n",
              "      <td>GUMAS/AUTOGENERADORES</td>\n",
              "      <td>Industrial/Comercial Grande</td>\n",
              "      <td>631.637</td>\n",
              "      <td>2012-01</td>\n",
              "    </tr>\n",
              "  </tbody>\n",
              "</table>\n",
              "</div>"
            ],
            "text/plain": [
              "        anio  mes  ... demanda_MWh indice_tiempo\n",
              "0 2012-01-01    1  ...    2222.628       2012-01\n",
              "1 2012-01-01    1  ...     536.858       2012-01\n",
              "2 2012-01-01    1  ...     336.297       2012-01\n",
              "3 2012-01-01    1  ...     601.066       2012-01\n",
              "4 2012-01-01    1  ...    3076.618       2012-01\n",
              "5 2012-01-01    1  ...   68179.459       2012-01\n",
              "6 2012-01-01    1  ...     703.186       2012-01\n",
              "7 2012-01-01    1  ...    5584.473       2012-01\n",
              "8 2012-01-01    1  ...    1218.180       2012-01\n",
              "9 2012-01-01    1  ...     631.637       2012-01\n",
              "\n",
              "[10 rows x 13 columns]"
            ]
          },
          "metadata": {
            "tags": []
          },
          "execution_count": 2
        }
      ]
    },
    {
      "cell_type": "code",
      "metadata": {
        "id": "KQgCXY07f2nX",
        "colab_type": "code",
        "colab": {
          "base_uri": "https://localhost:8080/",
          "height": 297
        },
        "outputId": "25a03231-76c2-44a5-aa5c-44abbf3d6ffa"
      },
      "source": [
        "data.describe()"
      ],
      "execution_count": 3,
      "outputs": [
        {
          "output_type": "execute_result",
          "data": {
            "text/html": [
              "<div>\n",
              "<style scoped>\n",
              "    .dataframe tbody tr th:only-of-type {\n",
              "        vertical-align: middle;\n",
              "    }\n",
              "\n",
              "    .dataframe tbody tr th {\n",
              "        vertical-align: top;\n",
              "    }\n",
              "\n",
              "    .dataframe thead th {\n",
              "        text-align: right;\n",
              "    }\n",
              "</style>\n",
              "<table border=\"1\" class=\"dataframe\">\n",
              "  <thead>\n",
              "    <tr style=\"text-align: right;\">\n",
              "      <th></th>\n",
              "      <th>mes</th>\n",
              "      <th>demanda_MWh</th>\n",
              "    </tr>\n",
              "  </thead>\n",
              "  <tbody>\n",
              "    <tr>\n",
              "      <th>count</th>\n",
              "      <td>122263.000000</td>\n",
              "      <td>1.222630e+05</td>\n",
              "    </tr>\n",
              "    <tr>\n",
              "      <th>mean</th>\n",
              "      <td>6.373637</td>\n",
              "      <td>9.420555e+03</td>\n",
              "    </tr>\n",
              "    <tr>\n",
              "      <th>std</th>\n",
              "      <td>3.469122</td>\n",
              "      <td>3.987174e+04</td>\n",
              "    </tr>\n",
              "    <tr>\n",
              "      <th>min</th>\n",
              "      <td>1.000000</td>\n",
              "      <td>-2.537772e+04</td>\n",
              "    </tr>\n",
              "    <tr>\n",
              "      <th>25%</th>\n",
              "      <td>3.000000</td>\n",
              "      <td>3.649625e+02</td>\n",
              "    </tr>\n",
              "    <tr>\n",
              "      <th>50%</th>\n",
              "      <td>6.000000</td>\n",
              "      <td>1.344686e+03</td>\n",
              "    </tr>\n",
              "    <tr>\n",
              "      <th>75%</th>\n",
              "      <td>9.000000</td>\n",
              "      <td>4.581487e+03</td>\n",
              "    </tr>\n",
              "    <tr>\n",
              "      <th>max</th>\n",
              "      <td>12.000000</td>\n",
              "      <td>1.572308e+06</td>\n",
              "    </tr>\n",
              "  </tbody>\n",
              "</table>\n",
              "</div>"
            ],
            "text/plain": [
              "                 mes   demanda_MWh\n",
              "count  122263.000000  1.222630e+05\n",
              "mean        6.373637  9.420555e+03\n",
              "std         3.469122  3.987174e+04\n",
              "min         1.000000 -2.537772e+04\n",
              "25%         3.000000  3.649625e+02\n",
              "50%         6.000000  1.344686e+03\n",
              "75%         9.000000  4.581487e+03\n",
              "max        12.000000  1.572308e+06"
            ]
          },
          "metadata": {
            "tags": []
          },
          "execution_count": 3
        }
      ]
    },
    {
      "cell_type": "markdown",
      "metadata": {
        "id": "33CBohDDVvND",
        "colab_type": "text"
      },
      "source": [
        "## 1 - Descripción del dataset "
      ]
    },
    {
      "cell_type": "markdown",
      "metadata": {
        "id": "TVsGuqTLKYzq",
        "colab_type": "text"
      },
      "source": [
        "### Describa las variables que contiene el dataset (que es cada columna, unidades)"
      ]
    },
    {
      "cell_type": "markdown",
      "metadata": {
        "id": "4LQsdp1GKdl5",
        "colab_type": "text"
      },
      "source": [
        "SU RESPUESTA AQUI"
      ]
    },
    {
      "cell_type": "markdown",
      "metadata": {
        "id": "YIx_EZstWBlR",
        "colab_type": "text"
      },
      "source": [
        "### ¿Cuál es el tamaño del archivo (en Mb)?"
      ]
    },
    {
      "cell_type": "markdown",
      "metadata": {
        "id": "Zf7CkaokJ98P",
        "colab_type": "text"
      },
      "source": [
        "SU RESPUESTA AQUI"
      ]
    },
    {
      "cell_type": "markdown",
      "metadata": {
        "id": "bGcw-BPRJ279",
        "colab_type": "text"
      },
      "source": [
        "### ¿Cuántas variables y cuántas observaciones tenemos en el dataset?"
      ]
    },
    {
      "cell_type": "markdown",
      "metadata": {
        "id": "Gn7NaSaDJ_fK",
        "colab_type": "text"
      },
      "source": [
        "SU RESPUESTA AQUI"
      ]
    },
    {
      "cell_type": "markdown",
      "metadata": {
        "id": "xCIyPcZ0KE5d",
        "colab_type": "text"
      },
      "source": [
        "### ¿Contiene el dataset valores perdidos?"
      ]
    },
    {
      "cell_type": "markdown",
      "metadata": {
        "id": "HERzUwnkKI43",
        "colab_type": "text"
      },
      "source": [
        "SU RESPUESTA AQUI"
      ]
    },
    {
      "cell_type": "markdown",
      "metadata": {
        "id": "d3P5LZeYWW4o",
        "colab_type": "text"
      },
      "source": [
        "## Consultas"
      ]
    },
    {
      "cell_type": "markdown",
      "metadata": {
        "id": "Ew342kgbLAX3",
        "colab_type": "text"
      },
      "source": [
        "### Los datos ¿de qué periodo o rango de tiempo son?"
      ]
    },
    {
      "cell_type": "markdown",
      "metadata": {
        "id": "Y4CjzCA-LF4q",
        "colab_type": "text"
      },
      "source": [
        ""
      ]
    },
    {
      "cell_type": "code",
      "metadata": {
        "id": "6FN0Pry2LrvX",
        "colab_type": "code",
        "colab": {}
      },
      "source": [
        ""
      ],
      "execution_count": null,
      "outputs": []
    },
    {
      "cell_type": "markdown",
      "metadata": {
        "id": "8uLdOOg1LsPG",
        "colab_type": "text"
      },
      "source": [
        "## Obtenga el promedio, minimo, maximo de demanda (agrupado) por provincia, año. Muestre el DataFrame obtenido.\n",
        "\n"
      ]
    },
    {
      "cell_type": "markdown",
      "metadata": {
        "id": "eTw-vAhsS4yW",
        "colab_type": "text"
      },
      "source": [
        "Pista: vea la documentación y/o ejemplos del uso de las siguientes funciones de la librería Pandas:\n",
        "\n",
        "*groupby*, hay varios ejemplos https://pandas.pydata.org/pandas-docs/stable/reference/api/pandas.DataFrame.groupby.html\n",
        "y con la funcion *filter* para seleccionar las columnas de interés\n",
        "\n"
      ]
    },
    {
      "cell_type": "code",
      "metadata": {
        "id": "Qa9R6A85Wjhr",
        "colab_type": "code",
        "colab": {}
      },
      "source": [
        "df = data.filter(items=['region','provincia','anio','demanda_MWh'])"
      ],
      "execution_count": 4,
      "outputs": []
    },
    {
      "cell_type": "code",
      "metadata": {
        "id": "SdUpK2O1U6_f",
        "colab_type": "code",
        "colab": {}
      },
      "source": [
        "df = data.groupby(by=['region','provincia','anio']).mean()"
      ],
      "execution_count": 5,
      "outputs": []
    },
    {
      "cell_type": "code",
      "metadata": {
        "id": "TAYaZt2yV1iT",
        "colab_type": "code",
        "colab": {
          "base_uri": "https://localhost:8080/",
          "height": 450
        },
        "outputId": "86c7990c-b54e-4a4c-99e3-c9adba853f88"
      },
      "source": [
        "df"
      ],
      "execution_count": 6,
      "outputs": [
        {
          "output_type": "execute_result",
          "data": {
            "text/html": [
              "<div>\n",
              "<style scoped>\n",
              "    .dataframe tbody tr th:only-of-type {\n",
              "        vertical-align: middle;\n",
              "    }\n",
              "\n",
              "    .dataframe tbody tr th {\n",
              "        vertical-align: top;\n",
              "    }\n",
              "\n",
              "    .dataframe thead th {\n",
              "        text-align: right;\n",
              "    }\n",
              "</style>\n",
              "<table border=\"1\" class=\"dataframe\">\n",
              "  <thead>\n",
              "    <tr style=\"text-align: right;\">\n",
              "      <th></th>\n",
              "      <th></th>\n",
              "      <th></th>\n",
              "      <th>mes</th>\n",
              "      <th>demanda_MWh</th>\n",
              "    </tr>\n",
              "    <tr>\n",
              "      <th>region</th>\n",
              "      <th>provincia</th>\n",
              "      <th>anio</th>\n",
              "      <th></th>\n",
              "      <th></th>\n",
              "    </tr>\n",
              "  </thead>\n",
              "  <tbody>\n",
              "    <tr>\n",
              "      <th rowspan=\"5\" valign=\"top\">BUENOS AIRES</th>\n",
              "      <th rowspan=\"5\" valign=\"top\">BUENOS AIRES</th>\n",
              "      <th>2012-01-01</th>\n",
              "      <td>6.520068</td>\n",
              "      <td>3094.868999</td>\n",
              "    </tr>\n",
              "    <tr>\n",
              "      <th>2013-01-01</th>\n",
              "      <td>6.505918</td>\n",
              "      <td>3033.969762</td>\n",
              "    </tr>\n",
              "    <tr>\n",
              "      <th>2014-01-01</th>\n",
              "      <td>6.501218</td>\n",
              "      <td>2816.885667</td>\n",
              "    </tr>\n",
              "    <tr>\n",
              "      <th>2015-01-01</th>\n",
              "      <td>6.504437</td>\n",
              "      <td>2865.544699</td>\n",
              "    </tr>\n",
              "    <tr>\n",
              "      <th>2016-01-01</th>\n",
              "      <td>6.255486</td>\n",
              "      <td>2913.812721</td>\n",
              "    </tr>\n",
              "    <tr>\n",
              "      <th>...</th>\n",
              "      <th>...</th>\n",
              "      <th>...</th>\n",
              "      <td>...</td>\n",
              "      <td>...</td>\n",
              "    </tr>\n",
              "    <tr>\n",
              "      <th rowspan=\"5\" valign=\"top\">PATAGONICA</th>\n",
              "      <th rowspan=\"5\" valign=\"top\">SANTA CRUZ</th>\n",
              "      <th>2016-01-01</th>\n",
              "      <td>6.147157</td>\n",
              "      <td>3957.610806</td>\n",
              "    </tr>\n",
              "    <tr>\n",
              "      <th>2017-01-01</th>\n",
              "      <td>6.430000</td>\n",
              "      <td>3882.341543</td>\n",
              "    </tr>\n",
              "    <tr>\n",
              "      <th>2018-01-01</th>\n",
              "      <td>6.534014</td>\n",
              "      <td>4099.877156</td>\n",
              "    </tr>\n",
              "    <tr>\n",
              "      <th>2019-01-01</th>\n",
              "      <td>6.378261</td>\n",
              "      <td>5178.934539</td>\n",
              "    </tr>\n",
              "    <tr>\n",
              "      <th>2020-01-01</th>\n",
              "      <td>1.500000</td>\n",
              "      <td>4993.967333</td>\n",
              "    </tr>\n",
              "  </tbody>\n",
              "</table>\n",
              "<p>209 rows × 2 columns</p>\n",
              "</div>"
            ],
            "text/plain": [
              "                                           mes  demanda_MWh\n",
              "region       provincia    anio                             \n",
              "BUENOS AIRES BUENOS AIRES 2012-01-01  6.520068  3094.868999\n",
              "                          2013-01-01  6.505918  3033.969762\n",
              "                          2014-01-01  6.501218  2816.885667\n",
              "                          2015-01-01  6.504437  2865.544699\n",
              "                          2016-01-01  6.255486  2913.812721\n",
              "...                                        ...          ...\n",
              "PATAGONICA   SANTA CRUZ   2016-01-01  6.147157  3957.610806\n",
              "                          2017-01-01  6.430000  3882.341543\n",
              "                          2018-01-01  6.534014  4099.877156\n",
              "                          2019-01-01  6.378261  5178.934539\n",
              "                          2020-01-01  1.500000  4993.967333\n",
              "\n",
              "[209 rows x 2 columns]"
            ]
          },
          "metadata": {
            "tags": []
          },
          "execution_count": 6
        }
      ]
    },
    {
      "cell_type": "markdown",
      "metadata": {
        "id": "rBlZ17erWwBT",
        "colab_type": "text"
      },
      "source": [
        "## "
      ]
    },
    {
      "cell_type": "markdown",
      "metadata": {
        "id": "21mqR70NXHVN",
        "colab_type": "text"
      },
      "source": [
        "## Consumo total por año"
      ]
    },
    {
      "cell_type": "markdown",
      "metadata": {
        "id": "Ia8FVhQ3XeAm",
        "colab_type": "text"
      },
      "source": [
        "### Grafique la demanda total por año\n"
      ]
    },
    {
      "cell_type": "code",
      "metadata": {
        "id": "SwFmmpyLZ00h",
        "colab_type": "code",
        "colab": {}
      },
      "source": [
        ""
      ],
      "execution_count": null,
      "outputs": []
    },
    {
      "cell_type": "markdown",
      "metadata": {
        "id": "_hDtx1ctZY26",
        "colab_type": "text"
      },
      "source": [
        "\n",
        "### Desglose la demanda promedio por año por provincia. Muestre el DataFrame y realice los plots corrrespondientes "
      ]
    },
    {
      "cell_type": "code",
      "metadata": {
        "id": "klhdAt9cZ2C4",
        "colab_type": "code",
        "colab": {}
      },
      "source": [
        ""
      ],
      "execution_count": null,
      "outputs": []
    },
    {
      "cell_type": "markdown",
      "metadata": {
        "id": "rEF3AZOHXb0T",
        "colab_type": "text"
      },
      "source": [
        "\n",
        "### Grafique la distribucion de la demanda por anio por provincia. Muestre el DataFrame y realice los plots corrrespondientes "
      ]
    },
    {
      "cell_type": "code",
      "metadata": {
        "id": "6yLivnD-aZgE",
        "colab_type": "code",
        "colab": {}
      },
      "source": [
        ""
      ],
      "execution_count": null,
      "outputs": []
    },
    {
      "cell_type": "markdown",
      "metadata": {
        "id": "6E03LeqdaZxW",
        "colab_type": "text"
      },
      "source": [
        "### En el último año, ¿cuáles fueron las provincias con mayor demanda? Realice o muestre un ranking. "
      ]
    },
    {
      "cell_type": "markdown",
      "metadata": {
        "id": "ibhzWH0Uaozt",
        "colab_type": "text"
      },
      "source": [
        ""
      ]
    },
    {
      "cell_type": "markdown",
      "metadata": {
        "id": "Afs1vmcv8OS3",
        "colab_type": "text"
      },
      "source": [
        "## Investigue... pregunte...\n",
        "\n",
        "¿Qué otras consultas se pueden realizar sobre este dataset?\n",
        "\n",
        "¿Alguna que implique relacionar otros datasets en http://datos.minem.gob.ar/dataset/publicaciones-cammesa\n",
        "?"
      ]
    }
  ]
}